{
 "cells": [
  {
   "cell_type": "markdown",
   "metadata": {
    "id": "QBcH248yyO8_"
   },
   "source": [
    "<center><img src=\"data:image/png;base64,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\" title=\"Title text\" /></center>\n",
    "\n",
    "\n",
    "\n",
    "<hr style=\"height:2px;border:none\"/>\n",
    "<h1 align='center'> INF-398 INTRODUCCIÓN AL APRENDIZAJE AUTOMÁTICO - 2023-1 </h1>\n",
    "\n",
    "<H3 align='center'> Tarea 2  </H3>\n",
    "<hr style=\"height:2px;border:none\"/>"
   ]
  },
  {
   "cell_type": "markdown",
   "metadata": {
    "id": "LljwGpbwyflL"
   },
   "source": [
    "**Temas**  \n",
    "* Manipulaciones en pandas y numpy, imputación de datos y preprocesamientos\n",
    "* Feature Engineering\n",
    "* Regresión\n",
    "* Clasificación\n",
    "* Árboles y Bosques de Regresión\n",
    "* Máquinas de ensamblado\n",
    "* Redes Neuronales\n",
    "\n",
    "\n",
    "**Formalidades**  \n",
    "* Equipos de trabajo de 3 personas (*Los estudiantes deben estar preparados para presentar la tarea el día de la entrega*)\n",
    "* El entregable debe ser un _Jupyter Notebook_ incluyendo los códigos utilizados, los resultados, los gráficos realizados y comentarios. Debe seguir una estructura similar a un informe (se debe introducir los problemas a trabajar, presentar los resultados y discutirlos), se penalizará fuertemente ausencia de comentarios, explicaciones de gráficos, _etc_. Las preguntas que deben responder se encuentran especificadas explícitamente con letras, ejemplo a) b) c), por lo tanto cualquier pregunta que se encuentre incompleta será penalizada con descuento del puntaje. Recuerde que los códigos presentes en este documento son solo una guía de referencia, por lo tanto no necesariamente funcionan, usted debe mostrar todos sus conocimientos aprendidos a lo largo de la carrera para que su código funcione como se espera. Si lo prefiere puede entregar un _Jupyter Notebook_ por pregunta o uno por toda la tarea, con tal de que todos los entregables esten bien identificados y se encuentren en el mismo repositorio de _Github_.\n",
    "* Se debe preparar una presentación del trabajo realizado y sus hallazgos. El presentador será elegido aleatoriamente y deberá apoyarse en el _Jupyter Notebook_ que entregarán. \n",
    "* Formato de entrega: envı́o de link del repositorio en _Github_, al correo electrónico de los ayudantes (<sebastian.sanchezl@sansano.usm.cl>), en copia al profesor (<cvalle@inf.utfsm.cl>). Especificar el siguiente asunto: [INF-398-2023-1 Tarea 2]. Invitar como colaborador a los usuarios de github \"ssanchezl\" para poder acceder al repositorio en caso de ser privado.\n",
    "\n",
    "* Fecha de presentaciones 30 de Junio, en horario de clases.\n",
    "* Fecha de entrega: 01 de Julio. Hora límite de entrega: 12:00 p.m. Cualquier _commit_ luego de la hora límite no será evaluado. Se realizará descuento por atrasos en envío del mail igualmente.  \n",
    "\n",
    "<hr style=\"height:2px;border:none\"/>"
   ]
  },
  {
   "cell_type": "markdown",
   "metadata": {
    "id": "kYiVgB4gzWfS"
   },
   "source": [
    "Importe las librerías necesarias para cargar explorar el conjunto de datos."
   ]
  },
  {
   "cell_type": "code",
   "execution_count": 64,
   "metadata": {
    "id": "sXeu58BVOsb0"
   },
   "outputs": [],
   "source": [
    "import numpy as np\n",
    "import pandas as pd\n",
    "import seaborn as sns\n",
    "import matplotlib.pyplot as plt\n",
    "import sklearn as sk\n",
    "from sklearn import preprocessing\n",
    "from sklearn.preprocessing import OneHotEncoder\n",
    "from sklearn.model_selection import train_test_split, cross_val_score, KFold, GridSearchCV\n",
    "from sklearn.metrics import mean_squared_error, classification_report, confusion_matrix, mean_absolute_error, mutual_info_score\n",
    "from sklearn.feature_selection import mutual_info_classif\n",
    "from sklearn.tree import DecisionTreeRegressor"
   ]
  },
  {
   "cell_type": "markdown",
   "metadata": {
    "id": "Xpssh9X6zgO0"
   },
   "source": [
    "# 1. Predicción de la calidad de vinos\n",
    "\n",
    "Los árboles de regresión, también conocidos como árboles de decisión para regresión, son un tipo de algoritmo de aprendizaje supervisado que se utiliza para predecir valores numéricos. Son una potente herramienta para tareas de regresión y ofrecen varias ventajas y consideraciones.\n",
    "\n",
    "<center><img src=https://cdn.shopify.com/s/files/1/1277/3667/files/an-essential-guide-1_480x480.png?v=1674719515></center>\n",
    "\n",
    "\n",
    "Los conjuntos de datos provienen del UCI Machine Learning Repository. Estos conjuntos de datos están relacionados con las variantes tintas y blancas del vino portugués \"Vinho Verde\".\n",
    "\n",
    "Estos dos conjuntos de datos contienen varias propiedades químicas de distintos vinos, como la acidez, el pH, el contenido de alcohol, etc. La variable objetivo es la calidad del vino la cual se puntúa del 0 al 10. Puede considerarse una tarea de clasificación o regresión en la que las clases están ordenadas y no balanceadas. Para esta pregunta nos centraremos en la tarea de regresión.\n",
    "\n",
    "Variables de entrada (basadas en pruebas físico-químicas):\n",
    "* fixed acidity\n",
    "* volatile acidity\n",
    "* citric acid\n",
    "* residual sugar\n",
    "* chlorides\n",
    "* free sulfur dioxide\n",
    "* total sulfur dioxide\n",
    "* density\n",
    "* pH\n",
    "* sulphates\n",
    "* alcohol\n",
    "* type\n",
    "\n",
    "Variable objetivo (basadas en datos sensoriales):\n",
    "* quality\n",
    "\n",
    "\n",
    "\n",
    "Para obtener más información sobre este conjunto de datos, revise el siguiente link: https://www.kaggle.com/datasets/rajyellow46/wine-quality."
   ]
  },
  {
   "cell_type": "markdown",
   "metadata": {
    "id": "By3lx0sn7WE8"
   },
   "source": [
    "## 1.1 Manipulación y exploración del conjunto de datos\n",
    "\n",
    "Lo primero es obtener los datos, para esto se pueden descargar los archivos directamente de la página de Kaggle a través del link de la descripción de arriba.\n",
    "\n",
    "Aplique lo aprendido en la tarea 1 y obtenga los datos de la forma que le sea más conveniente siempre y cuando estos sean los del link de la descripción."
   ]
  },
  {
   "cell_type": "code",
   "execution_count": 2,
   "metadata": {
    "colab": {
     "base_uri": "https://localhost:8080/",
     "height": 91
    },
    "id": "_1yzCrrEV_Uf",
    "outputId": "3980e004-beb1-42ac-f14e-8b9f65af96ae"
   },
   "outputs": [],
   "source": [
    "#from google.colab import files\n",
    "#files.upload()\n",
    "#\n",
    "#!mkdir -p ~/.kaggle\n",
    "#!cp kaggle.json ~/.kaggle/\n",
    "#!chmod 600 ~/.kaggle/kaggle.json\n",
    "#\n",
    "#!kaggle datasets download -d rajyellow46/wine-quality\n",
    "#\n",
    "#!unzip /content/wine-quality.zip"
   ]
  },
  {
   "cell_type": "code",
   "execution_count": 3,
   "metadata": {
    "id": "bauoFq-V8b-C"
   },
   "outputs": [],
   "source": [
    "df = pd.read_csv('content/winequalityN.csv', encoding= 'unicode_escape')"
   ]
  },
  {
   "cell_type": "code",
   "execution_count": 4,
   "metadata": {},
   "outputs": [
    {
     "data": {
      "text/html": [
       "<div>\n",
       "<style scoped>\n",
       "    .dataframe tbody tr th:only-of-type {\n",
       "        vertical-align: middle;\n",
       "    }\n",
       "\n",
       "    .dataframe tbody tr th {\n",
       "        vertical-align: top;\n",
       "    }\n",
       "\n",
       "    .dataframe thead th {\n",
       "        text-align: right;\n",
       "    }\n",
       "</style>\n",
       "<table border=\"1\" class=\"dataframe\">\n",
       "  <thead>\n",
       "    <tr style=\"text-align: right;\">\n",
       "      <th></th>\n",
       "      <th>type</th>\n",
       "      <th>fixed acidity</th>\n",
       "      <th>volatile acidity</th>\n",
       "      <th>citric acid</th>\n",
       "      <th>residual sugar</th>\n",
       "      <th>chlorides</th>\n",
       "      <th>free sulfur dioxide</th>\n",
       "      <th>total sulfur dioxide</th>\n",
       "      <th>density</th>\n",
       "      <th>pH</th>\n",
       "      <th>sulphates</th>\n",
       "      <th>alcohol</th>\n",
       "      <th>quality</th>\n",
       "    </tr>\n",
       "  </thead>\n",
       "  <tbody>\n",
       "    <tr>\n",
       "      <th>0</th>\n",
       "      <td>white</td>\n",
       "      <td>7.0</td>\n",
       "      <td>0.27</td>\n",
       "      <td>0.36</td>\n",
       "      <td>20.7</td>\n",
       "      <td>0.045</td>\n",
       "      <td>45.0</td>\n",
       "      <td>170.0</td>\n",
       "      <td>1.0010</td>\n",
       "      <td>3.00</td>\n",
       "      <td>0.45</td>\n",
       "      <td>8.8</td>\n",
       "      <td>6</td>\n",
       "    </tr>\n",
       "    <tr>\n",
       "      <th>1</th>\n",
       "      <td>white</td>\n",
       "      <td>6.3</td>\n",
       "      <td>0.30</td>\n",
       "      <td>0.34</td>\n",
       "      <td>1.6</td>\n",
       "      <td>0.049</td>\n",
       "      <td>14.0</td>\n",
       "      <td>132.0</td>\n",
       "      <td>0.9940</td>\n",
       "      <td>3.30</td>\n",
       "      <td>0.49</td>\n",
       "      <td>9.5</td>\n",
       "      <td>6</td>\n",
       "    </tr>\n",
       "    <tr>\n",
       "      <th>2</th>\n",
       "      <td>white</td>\n",
       "      <td>8.1</td>\n",
       "      <td>0.28</td>\n",
       "      <td>0.40</td>\n",
       "      <td>6.9</td>\n",
       "      <td>0.050</td>\n",
       "      <td>30.0</td>\n",
       "      <td>97.0</td>\n",
       "      <td>0.9951</td>\n",
       "      <td>3.26</td>\n",
       "      <td>0.44</td>\n",
       "      <td>10.1</td>\n",
       "      <td>6</td>\n",
       "    </tr>\n",
       "    <tr>\n",
       "      <th>3</th>\n",
       "      <td>white</td>\n",
       "      <td>7.2</td>\n",
       "      <td>0.23</td>\n",
       "      <td>0.32</td>\n",
       "      <td>8.5</td>\n",
       "      <td>0.058</td>\n",
       "      <td>47.0</td>\n",
       "      <td>186.0</td>\n",
       "      <td>0.9956</td>\n",
       "      <td>3.19</td>\n",
       "      <td>0.40</td>\n",
       "      <td>9.9</td>\n",
       "      <td>6</td>\n",
       "    </tr>\n",
       "    <tr>\n",
       "      <th>4</th>\n",
       "      <td>white</td>\n",
       "      <td>7.2</td>\n",
       "      <td>0.23</td>\n",
       "      <td>0.32</td>\n",
       "      <td>8.5</td>\n",
       "      <td>0.058</td>\n",
       "      <td>47.0</td>\n",
       "      <td>186.0</td>\n",
       "      <td>0.9956</td>\n",
       "      <td>3.19</td>\n",
       "      <td>0.40</td>\n",
       "      <td>9.9</td>\n",
       "      <td>6</td>\n",
       "    </tr>\n",
       "  </tbody>\n",
       "</table>\n",
       "</div>"
      ],
      "text/plain": [
       "    type  fixed acidity  volatile acidity  citric acid  residual sugar  \\\n",
       "0  white            7.0              0.27         0.36            20.7   \n",
       "1  white            6.3              0.30         0.34             1.6   \n",
       "2  white            8.1              0.28         0.40             6.9   \n",
       "3  white            7.2              0.23         0.32             8.5   \n",
       "4  white            7.2              0.23         0.32             8.5   \n",
       "\n",
       "   chlorides  free sulfur dioxide  total sulfur dioxide  density    pH  \\\n",
       "0      0.045                 45.0                 170.0   1.0010  3.00   \n",
       "1      0.049                 14.0                 132.0   0.9940  3.30   \n",
       "2      0.050                 30.0                  97.0   0.9951  3.26   \n",
       "3      0.058                 47.0                 186.0   0.9956  3.19   \n",
       "4      0.058                 47.0                 186.0   0.9956  3.19   \n",
       "\n",
       "   sulphates  alcohol  quality  \n",
       "0       0.45      8.8        6  \n",
       "1       0.49      9.5        6  \n",
       "2       0.44     10.1        6  \n",
       "3       0.40      9.9        6  \n",
       "4       0.40      9.9        6  "
      ]
     },
     "execution_count": 4,
     "metadata": {},
     "output_type": "execute_result"
    }
   ],
   "source": [
    "df.head()"
   ]
  },
  {
   "cell_type": "markdown",
   "metadata": {
    "id": "64ZvvBF0WGo1"
   },
   "source": [
    "### 1.1.1 Exploración del conjunto de datos\n",
    "\n",
    "Explore el conjunto de datos y responda brevemente las siguientes preguntas:\n",
    "\n",
    "> a) ¿Cuáles variables poseen valores numéricos y cuáles poseen valores categóricos?\n",
    "\n",
    "Como veremos a continuación, las variables que poseen valores númericos son:\n",
    "- fixed acidity\n",
    "- volatile acidity\n",
    "- citric acid\n",
    "- residual sugar\n",
    "- chlorides\n",
    "- free sulfur dioxide\n",
    "- total sulfur dioxide\n",
    "- density\n",
    "- pH\n",
    "- sulphates\n",
    "- alcohol\n",
    "- quality\n",
    "\n",
    "mientras que las variables que poseen valores categóricos son:\n",
    "- type\n",
    "\n",
    "> b) ¿Existen datos faltantes, si es así en qué atributos faltan datos y cuantos faltan?\n",
    "\n",
    "Si, si exisen datos faltantes. A continuación se muestran los atributos que poseen datos faltantes:\n",
    "\n",
    "- fixed acidity: faltan 10 datos.\n",
    "- volatile acidity: faltan 8 datos.\n",
    "- citric acid: faltan 3 datos.\n",
    "- residual sugar: faltan 2 datos.\n",
    "- chlorides: faltan 2 datos.\n",
    "- pH: faltan 9 datos.\n",
    "- sulphates_ faltan 4 datos.\n",
    "\n",
    "> c) ¿Qué técnicas conoce para rellenar los datos faltantes de los atributos del dataset? (si no conoce ninguna investigue al menos 2)\n",
    "\n",
    "Podemos utilizar diferentes bibliotecas para rellenar los datos faltantes de los atributos del dataset. Por ejemplo, al utilizar la bilbioteca _Scikit-learn_ podemos usar la clase SimpleImputer, la cual nos permite reemplazar los valores nulos con estadística descriptiva como la media, la mediana o el valor más frecuente en función del tipo de datos. \n",
    "\n",
    "\n"
   ]
  },
  {
   "cell_type": "code",
   "execution_count": 5,
   "metadata": {
    "id": "zHLcrSHV9CZx"
   },
   "outputs": [
    {
     "data": {
      "text/html": [
       "<div>\n",
       "<style scoped>\n",
       "    .dataframe tbody tr th:only-of-type {\n",
       "        vertical-align: middle;\n",
       "    }\n",
       "\n",
       "    .dataframe tbody tr th {\n",
       "        vertical-align: top;\n",
       "    }\n",
       "\n",
       "    .dataframe thead th {\n",
       "        text-align: right;\n",
       "    }\n",
       "</style>\n",
       "<table border=\"1\" class=\"dataframe\">\n",
       "  <thead>\n",
       "    <tr style=\"text-align: right;\">\n",
       "      <th></th>\n",
       "      <th>DataType</th>\n",
       "      <th>Non-null_Values</th>\n",
       "      <th>Unique_Values</th>\n",
       "      <th>NaN_Values</th>\n",
       "      <th>NaN_Values_Percentage</th>\n",
       "    </tr>\n",
       "  </thead>\n",
       "  <tbody>\n",
       "    <tr>\n",
       "      <th>type</th>\n",
       "      <td>object</td>\n",
       "      <td>6497</td>\n",
       "      <td>2</td>\n",
       "      <td>0</td>\n",
       "      <td>0.000000</td>\n",
       "    </tr>\n",
       "    <tr>\n",
       "      <th>fixed acidity</th>\n",
       "      <td>float64</td>\n",
       "      <td>6487</td>\n",
       "      <td>106</td>\n",
       "      <td>10</td>\n",
       "      <td>0.153917</td>\n",
       "    </tr>\n",
       "    <tr>\n",
       "      <th>volatile acidity</th>\n",
       "      <td>float64</td>\n",
       "      <td>6489</td>\n",
       "      <td>187</td>\n",
       "      <td>8</td>\n",
       "      <td>0.123134</td>\n",
       "    </tr>\n",
       "    <tr>\n",
       "      <th>citric acid</th>\n",
       "      <td>float64</td>\n",
       "      <td>6494</td>\n",
       "      <td>89</td>\n",
       "      <td>3</td>\n",
       "      <td>0.046175</td>\n",
       "    </tr>\n",
       "    <tr>\n",
       "      <th>residual sugar</th>\n",
       "      <td>float64</td>\n",
       "      <td>6495</td>\n",
       "      <td>316</td>\n",
       "      <td>2</td>\n",
       "      <td>0.030783</td>\n",
       "    </tr>\n",
       "    <tr>\n",
       "      <th>chlorides</th>\n",
       "      <td>float64</td>\n",
       "      <td>6495</td>\n",
       "      <td>214</td>\n",
       "      <td>2</td>\n",
       "      <td>0.030783</td>\n",
       "    </tr>\n",
       "    <tr>\n",
       "      <th>free sulfur dioxide</th>\n",
       "      <td>float64</td>\n",
       "      <td>6497</td>\n",
       "      <td>135</td>\n",
       "      <td>0</td>\n",
       "      <td>0.000000</td>\n",
       "    </tr>\n",
       "    <tr>\n",
       "      <th>total sulfur dioxide</th>\n",
       "      <td>float64</td>\n",
       "      <td>6497</td>\n",
       "      <td>276</td>\n",
       "      <td>0</td>\n",
       "      <td>0.000000</td>\n",
       "    </tr>\n",
       "    <tr>\n",
       "      <th>density</th>\n",
       "      <td>float64</td>\n",
       "      <td>6497</td>\n",
       "      <td>998</td>\n",
       "      <td>0</td>\n",
       "      <td>0.000000</td>\n",
       "    </tr>\n",
       "    <tr>\n",
       "      <th>pH</th>\n",
       "      <td>float64</td>\n",
       "      <td>6488</td>\n",
       "      <td>108</td>\n",
       "      <td>9</td>\n",
       "      <td>0.138525</td>\n",
       "    </tr>\n",
       "    <tr>\n",
       "      <th>sulphates</th>\n",
       "      <td>float64</td>\n",
       "      <td>6493</td>\n",
       "      <td>111</td>\n",
       "      <td>4</td>\n",
       "      <td>0.061567</td>\n",
       "    </tr>\n",
       "    <tr>\n",
       "      <th>alcohol</th>\n",
       "      <td>float64</td>\n",
       "      <td>6497</td>\n",
       "      <td>111</td>\n",
       "      <td>0</td>\n",
       "      <td>0.000000</td>\n",
       "    </tr>\n",
       "    <tr>\n",
       "      <th>quality</th>\n",
       "      <td>int64</td>\n",
       "      <td>6497</td>\n",
       "      <td>7</td>\n",
       "      <td>0</td>\n",
       "      <td>0.000000</td>\n",
       "    </tr>\n",
       "  </tbody>\n",
       "</table>\n",
       "</div>"
      ],
      "text/plain": [
       "                     DataType  Non-null_Values  Unique_Values  NaN_Values  \\\n",
       "type                   object             6497              2           0   \n",
       "fixed acidity         float64             6487            106          10   \n",
       "volatile acidity      float64             6489            187           8   \n",
       "citric acid           float64             6494             89           3   \n",
       "residual sugar        float64             6495            316           2   \n",
       "chlorides             float64             6495            214           2   \n",
       "free sulfur dioxide   float64             6497            135           0   \n",
       "total sulfur dioxide  float64             6497            276           0   \n",
       "density               float64             6497            998           0   \n",
       "pH                    float64             6488            108           9   \n",
       "sulphates             float64             6493            111           4   \n",
       "alcohol               float64             6497            111           0   \n",
       "quality                 int64             6497              7           0   \n",
       "\n",
       "                      NaN_Values_Percentage  \n",
       "type                               0.000000  \n",
       "fixed acidity                      0.153917  \n",
       "volatile acidity                   0.123134  \n",
       "citric acid                        0.046175  \n",
       "residual sugar                     0.030783  \n",
       "chlorides                          0.030783  \n",
       "free sulfur dioxide                0.000000  \n",
       "total sulfur dioxide               0.000000  \n",
       "density                            0.000000  \n",
       "pH                                 0.138525  \n",
       "sulphates                          0.061567  \n",
       "alcohol                            0.000000  \n",
       "quality                            0.000000  "
      ]
     },
     "execution_count": 5,
     "metadata": {},
     "output_type": "execute_result"
    }
   ],
   "source": [
    "def datainfo(data):\n",
    "    temp_ps = pd.DataFrame(index=data.columns)\n",
    "    temp_ps['DataType'] = data.dtypes\n",
    "    temp_ps[\"Non-null_Values\"] = data.count()\n",
    "    temp_ps['Unique_Values'] = data.nunique()\n",
    "    temp_ps['NaN_Values'] = data.isnull().sum()\n",
    "    temp_ps['NaN_Values_Percentage'] = (temp_ps['NaN_Values']/len(data))*100 \n",
    "    return temp_ps\n",
    "\n",
    "datainfo(df)"
   ]
  },
  {
   "cell_type": "markdown",
   "metadata": {
    "id": "ZURKzsF2V6t-",
    "tags": []
   },
   "source": [
    "### 1.1.2 Exploración de Features\n",
    "\n",
    "En problemas de regresión, el desbalance de la variable objetivo se refiere a una distribución desigual de los valores de la variable objetivo en el conjunto de datos. Esto significa que hay una presencia significativa de valores en una clase o rango de valores en comparación con otras clases o rangos de valores. Considerando lo anterior responda las siguientes preguntas:\n",
    "\n",
    "> a) Grafique histogramas y box plots de cada variable y comente acerca de la distribución de las características y de la variable objetivo\n",
    "\n",
    "> b) ¿Considera que están *balanceados* los valores de la variable objetivo?\n",
    "\n",
    "> c) ¿Cómo afecta el desbalance en problemas de regresión en términos de la predicción y de la evaluación de un modelo?\n",
    "\n",
    "\n"
   ]
  },
  {
   "cell_type": "code",
   "execution_count": 6,
   "metadata": {
    "id": "JKqr_aVj95Jz"
   },
   "outputs": [
    {
     "data": {
      "image/png": "[encoded data removed]",
      "text/plain": [
       "<Figure size 1500x1500 with 16 Axes>"
      ]
     },
     "metadata": {},
     "output_type": "display_data"
    }
   ],
   "source": [
    "df.hist(figsize=(15,15), layout=(4,4), bins=20)\n",
    "plt.show()"
   ]
  },
  {
   "cell_type": "code",
   "execution_count": 7,
   "metadata": {
    "id": "WwYbeEAp_6fd"
   },
   "outputs": [
    {
     "data": {
      "image/png": "[encoded data removed]",
      "text/plain": [
       "<Figure size 1500x1500 with 12 Axes>"
      ]
     },
     "metadata": {},
     "output_type": "display_data"
    }
   ],
   "source": [
    "# buscar outliers con boxplots\n",
    "df.plot(kind=\"box\",subplots=True,layout=(3,4),figsize=(15,15))\n",
    "plt.show()"
   ]
  },
  {
   "cell_type": "code",
   "execution_count": 8,
   "metadata": {},
   "outputs": [
    {
     "data": {
      "text/html": [
       "<div>\n",
       "<style scoped>\n",
       "    .dataframe tbody tr th:only-of-type {\n",
       "        vertical-align: middle;\n",
       "    }\n",
       "\n",
       "    .dataframe tbody tr th {\n",
       "        vertical-align: top;\n",
       "    }\n",
       "\n",
       "    .dataframe thead th {\n",
       "        text-align: right;\n",
       "    }\n",
       "</style>\n",
       "<table border=\"1\" class=\"dataframe\">\n",
       "  <thead>\n",
       "    <tr style=\"text-align: right;\">\n",
       "      <th></th>\n",
       "      <th>type</th>\n",
       "      <th>fixed acidity</th>\n",
       "      <th>volatile acidity</th>\n",
       "      <th>citric acid</th>\n",
       "      <th>residual sugar</th>\n",
       "      <th>chlorides</th>\n",
       "      <th>free sulfur dioxide</th>\n",
       "      <th>total sulfur dioxide</th>\n",
       "      <th>density</th>\n",
       "      <th>pH</th>\n",
       "      <th>sulphates</th>\n",
       "      <th>alcohol</th>\n",
       "      <th>quality</th>\n",
       "    </tr>\n",
       "  </thead>\n",
       "  <tbody>\n",
       "    <tr>\n",
       "      <th>0</th>\n",
       "      <td>white</td>\n",
       "      <td>7.0</td>\n",
       "      <td>0.270</td>\n",
       "      <td>0.36</td>\n",
       "      <td>20.7</td>\n",
       "      <td>0.045</td>\n",
       "      <td>45.0</td>\n",
       "      <td>170.0</td>\n",
       "      <td>1.00100</td>\n",
       "      <td>3.00</td>\n",
       "      <td>0.45</td>\n",
       "      <td>8.8</td>\n",
       "      <td>6</td>\n",
       "    </tr>\n",
       "    <tr>\n",
       "      <th>1</th>\n",
       "      <td>white</td>\n",
       "      <td>6.3</td>\n",
       "      <td>0.300</td>\n",
       "      <td>0.34</td>\n",
       "      <td>1.6</td>\n",
       "      <td>0.049</td>\n",
       "      <td>14.0</td>\n",
       "      <td>132.0</td>\n",
       "      <td>0.99400</td>\n",
       "      <td>3.30</td>\n",
       "      <td>0.49</td>\n",
       "      <td>9.5</td>\n",
       "      <td>6</td>\n",
       "    </tr>\n",
       "    <tr>\n",
       "      <th>2</th>\n",
       "      <td>white</td>\n",
       "      <td>8.1</td>\n",
       "      <td>0.280</td>\n",
       "      <td>0.40</td>\n",
       "      <td>6.9</td>\n",
       "      <td>0.050</td>\n",
       "      <td>30.0</td>\n",
       "      <td>97.0</td>\n",
       "      <td>0.99510</td>\n",
       "      <td>3.26</td>\n",
       "      <td>0.44</td>\n",
       "      <td>10.1</td>\n",
       "      <td>6</td>\n",
       "    </tr>\n",
       "    <tr>\n",
       "      <th>3</th>\n",
       "      <td>white</td>\n",
       "      <td>7.2</td>\n",
       "      <td>0.230</td>\n",
       "      <td>0.32</td>\n",
       "      <td>8.5</td>\n",
       "      <td>0.058</td>\n",
       "      <td>47.0</td>\n",
       "      <td>186.0</td>\n",
       "      <td>0.99560</td>\n",
       "      <td>3.19</td>\n",
       "      <td>0.40</td>\n",
       "      <td>9.9</td>\n",
       "      <td>6</td>\n",
       "    </tr>\n",
       "    <tr>\n",
       "      <th>4</th>\n",
       "      <td>white</td>\n",
       "      <td>7.2</td>\n",
       "      <td>0.230</td>\n",
       "      <td>0.32</td>\n",
       "      <td>8.5</td>\n",
       "      <td>0.058</td>\n",
       "      <td>47.0</td>\n",
       "      <td>186.0</td>\n",
       "      <td>0.99560</td>\n",
       "      <td>3.19</td>\n",
       "      <td>0.40</td>\n",
       "      <td>9.9</td>\n",
       "      <td>6</td>\n",
       "    </tr>\n",
       "    <tr>\n",
       "      <th>...</th>\n",
       "      <td>...</td>\n",
       "      <td>...</td>\n",
       "      <td>...</td>\n",
       "      <td>...</td>\n",
       "      <td>...</td>\n",
       "      <td>...</td>\n",
       "      <td>...</td>\n",
       "      <td>...</td>\n",
       "      <td>...</td>\n",
       "      <td>...</td>\n",
       "      <td>...</td>\n",
       "      <td>...</td>\n",
       "      <td>...</td>\n",
       "    </tr>\n",
       "    <tr>\n",
       "      <th>6492</th>\n",
       "      <td>red</td>\n",
       "      <td>6.2</td>\n",
       "      <td>0.600</td>\n",
       "      <td>0.08</td>\n",
       "      <td>2.0</td>\n",
       "      <td>0.090</td>\n",
       "      <td>32.0</td>\n",
       "      <td>44.0</td>\n",
       "      <td>0.99490</td>\n",
       "      <td>3.45</td>\n",
       "      <td>0.58</td>\n",
       "      <td>10.5</td>\n",
       "      <td>5</td>\n",
       "    </tr>\n",
       "    <tr>\n",
       "      <th>6493</th>\n",
       "      <td>red</td>\n",
       "      <td>5.9</td>\n",
       "      <td>0.550</td>\n",
       "      <td>0.10</td>\n",
       "      <td>2.2</td>\n",
       "      <td>0.062</td>\n",
       "      <td>39.0</td>\n",
       "      <td>51.0</td>\n",
       "      <td>0.99512</td>\n",
       "      <td>3.52</td>\n",
       "      <td>NaN</td>\n",
       "      <td>11.2</td>\n",
       "      <td>6</td>\n",
       "    </tr>\n",
       "    <tr>\n",
       "      <th>6494</th>\n",
       "      <td>red</td>\n",
       "      <td>6.3</td>\n",
       "      <td>0.510</td>\n",
       "      <td>0.13</td>\n",
       "      <td>2.3</td>\n",
       "      <td>0.076</td>\n",
       "      <td>29.0</td>\n",
       "      <td>40.0</td>\n",
       "      <td>0.99574</td>\n",
       "      <td>3.42</td>\n",
       "      <td>0.75</td>\n",
       "      <td>11.0</td>\n",
       "      <td>6</td>\n",
       "    </tr>\n",
       "    <tr>\n",
       "      <th>6495</th>\n",
       "      <td>red</td>\n",
       "      <td>5.9</td>\n",
       "      <td>0.645</td>\n",
       "      <td>0.12</td>\n",
       "      <td>2.0</td>\n",
       "      <td>0.075</td>\n",
       "      <td>32.0</td>\n",
       "      <td>44.0</td>\n",
       "      <td>0.99547</td>\n",
       "      <td>3.57</td>\n",
       "      <td>0.71</td>\n",
       "      <td>10.2</td>\n",
       "      <td>5</td>\n",
       "    </tr>\n",
       "    <tr>\n",
       "      <th>6496</th>\n",
       "      <td>red</td>\n",
       "      <td>6.0</td>\n",
       "      <td>0.310</td>\n",
       "      <td>0.47</td>\n",
       "      <td>3.6</td>\n",
       "      <td>0.067</td>\n",
       "      <td>18.0</td>\n",
       "      <td>42.0</td>\n",
       "      <td>0.99549</td>\n",
       "      <td>3.39</td>\n",
       "      <td>0.66</td>\n",
       "      <td>11.0</td>\n",
       "      <td>6</td>\n",
       "    </tr>\n",
       "  </tbody>\n",
       "</table>\n",
       "<p>6497 rows × 13 columns</p>\n",
       "</div>"
      ],
      "text/plain": [
       "       type  fixed acidity  volatile acidity  citric acid  residual sugar   \n",
       "0     white            7.0             0.270         0.36            20.7  \\\n",
       "1     white            6.3             0.300         0.34             1.6   \n",
       "2     white            8.1             0.280         0.40             6.9   \n",
       "3     white            7.2             0.230         0.32             8.5   \n",
       "4     white            7.2             0.230         0.32             8.5   \n",
       "...     ...            ...               ...          ...             ...   \n",
       "6492    red            6.2             0.600         0.08             2.0   \n",
       "6493    red            5.9             0.550         0.10             2.2   \n",
       "6494    red            6.3             0.510         0.13             2.3   \n",
       "6495    red            5.9             0.645         0.12             2.0   \n",
       "6496    red            6.0             0.310         0.47             3.6   \n",
       "\n",
       "      chlorides  free sulfur dioxide  total sulfur dioxide  density    pH   \n",
       "0         0.045                 45.0                 170.0  1.00100  3.00  \\\n",
       "1         0.049                 14.0                 132.0  0.99400  3.30   \n",
       "2         0.050                 30.0                  97.0  0.99510  3.26   \n",
       "3         0.058                 47.0                 186.0  0.99560  3.19   \n",
       "4         0.058                 47.0                 186.0  0.99560  3.19   \n",
       "...         ...                  ...                   ...      ...   ...   \n",
       "6492      0.090                 32.0                  44.0  0.99490  3.45   \n",
       "6493      0.062                 39.0                  51.0  0.99512  3.52   \n",
       "6494      0.076                 29.0                  40.0  0.99574  3.42   \n",
       "6495      0.075                 32.0                  44.0  0.99547  3.57   \n",
       "6496      0.067                 18.0                  42.0  0.99549  3.39   \n",
       "\n",
       "      sulphates  alcohol  quality  \n",
       "0          0.45      8.8        6  \n",
       "1          0.49      9.5        6  \n",
       "2          0.44     10.1        6  \n",
       "3          0.40      9.9        6  \n",
       "4          0.40      9.9        6  \n",
       "...         ...      ...      ...  \n",
       "6492       0.58     10.5        5  \n",
       "6493        NaN     11.2        6  \n",
       "6494       0.75     11.0        6  \n",
       "6495       0.71     10.2        5  \n",
       "6496       0.66     11.0        6  \n",
       "\n",
       "[6497 rows x 13 columns]"
      ]
     },
     "execution_count": 8,
     "metadata": {},
     "output_type": "execute_result"
    }
   ],
   "source": [
    "df"
   ]
  },
  {
   "cell_type": "code",
   "execution_count": 9,
   "metadata": {
    "id": "fv8HeOpxCcBB"
   },
   "outputs": [
    {
     "data": {
      "image/png": "[encoded data removed]",
      "text/plain": [
       "<Figure size 1400x800 with 2 Axes>"
      ]
     },
     "metadata": {},
     "output_type": "display_data"
    }
   ],
   "source": [
    "plt.figure(figsize=[14,8])\n",
    "sns.heatmap(df.loc[:, df.columns != \"type\"].corr(), annot = True,cmap = 'coolwarm')\n",
    "plt.show()"
   ]
  },
  {
   "cell_type": "code",
   "execution_count": 10,
   "metadata": {},
   "outputs": [
    {
     "data": {
      "text/html": [
       "<div>\n",
       "<style scoped>\n",
       "    .dataframe tbody tr th:only-of-type {\n",
       "        vertical-align: middle;\n",
       "    }\n",
       "\n",
       "    .dataframe tbody tr th {\n",
       "        vertical-align: top;\n",
       "    }\n",
       "\n",
       "    .dataframe thead th {\n",
       "        text-align: right;\n",
       "    }\n",
       "</style>\n",
       "<table border=\"1\" class=\"dataframe\">\n",
       "  <thead>\n",
       "    <tr style=\"text-align: right;\">\n",
       "      <th></th>\n",
       "      <th>type</th>\n",
       "      <th>fixed acidity</th>\n",
       "      <th>volatile acidity</th>\n",
       "      <th>citric acid</th>\n",
       "      <th>residual sugar</th>\n",
       "      <th>chlorides</th>\n",
       "      <th>free sulfur dioxide</th>\n",
       "      <th>total sulfur dioxide</th>\n",
       "      <th>density</th>\n",
       "      <th>pH</th>\n",
       "      <th>sulphates</th>\n",
       "      <th>alcohol</th>\n",
       "      <th>quality</th>\n",
       "    </tr>\n",
       "  </thead>\n",
       "  <tbody>\n",
       "    <tr>\n",
       "      <th>0</th>\n",
       "      <td>white</td>\n",
       "      <td>7.0</td>\n",
       "      <td>0.27</td>\n",
       "      <td>0.36</td>\n",
       "      <td>20.7</td>\n",
       "      <td>0.045</td>\n",
       "      <td>45.0</td>\n",
       "      <td>170.0</td>\n",
       "      <td>1.0010</td>\n",
       "      <td>3.00</td>\n",
       "      <td>0.45</td>\n",
       "      <td>8.8</td>\n",
       "      <td>6</td>\n",
       "    </tr>\n",
       "    <tr>\n",
       "      <th>1</th>\n",
       "      <td>white</td>\n",
       "      <td>6.3</td>\n",
       "      <td>0.30</td>\n",
       "      <td>0.34</td>\n",
       "      <td>1.6</td>\n",
       "      <td>0.049</td>\n",
       "      <td>14.0</td>\n",
       "      <td>132.0</td>\n",
       "      <td>0.9940</td>\n",
       "      <td>3.30</td>\n",
       "      <td>0.49</td>\n",
       "      <td>9.5</td>\n",
       "      <td>6</td>\n",
       "    </tr>\n",
       "    <tr>\n",
       "      <th>2</th>\n",
       "      <td>white</td>\n",
       "      <td>8.1</td>\n",
       "      <td>0.28</td>\n",
       "      <td>0.40</td>\n",
       "      <td>6.9</td>\n",
       "      <td>0.050</td>\n",
       "      <td>30.0</td>\n",
       "      <td>97.0</td>\n",
       "      <td>0.9951</td>\n",
       "      <td>3.26</td>\n",
       "      <td>0.44</td>\n",
       "      <td>10.1</td>\n",
       "      <td>6</td>\n",
       "    </tr>\n",
       "  </tbody>\n",
       "</table>\n",
       "</div>"
      ],
      "text/plain": [
       "    type  fixed acidity  volatile acidity  citric acid  residual sugar   \n",
       "0  white            7.0              0.27         0.36            20.7  \\\n",
       "1  white            6.3              0.30         0.34             1.6   \n",
       "2  white            8.1              0.28         0.40             6.9   \n",
       "\n",
       "   chlorides  free sulfur dioxide  total sulfur dioxide  density    pH   \n",
       "0      0.045                 45.0                 170.0   1.0010  3.00  \\\n",
       "1      0.049                 14.0                 132.0   0.9940  3.30   \n",
       "2      0.050                 30.0                  97.0   0.9951  3.26   \n",
       "\n",
       "   sulphates  alcohol  quality  \n",
       "0       0.45      8.8        6  \n",
       "1       0.49      9.5        6  \n",
       "2       0.44     10.1        6  "
      ]
     },
     "execution_count": 10,
     "metadata": {},
     "output_type": "execute_result"
    }
   ],
   "source": [
    "df.head(3)"
   ]
  },
  {
   "cell_type": "code",
   "execution_count": 11,
   "metadata": {
    "id": "mN37bRfnD0pw"
   },
   "outputs": [],
   "source": [
    "df = pd.get_dummies(df,drop_first=True)"
   ]
  },
  {
   "cell_type": "code",
   "execution_count": 12,
   "metadata": {
    "colab": {
     "base_uri": "https://localhost:8080/",
     "height": 655
    },
    "id": "PSX-0pnND3my",
    "outputId": "2f07babf-0dce-4fca-b815-8a85d0a27418"
   },
   "outputs": [
    {
     "data": {
      "text/html": [
       "<div>\n",
       "<style scoped>\n",
       "    .dataframe tbody tr th:only-of-type {\n",
       "        vertical-align: middle;\n",
       "    }\n",
       "\n",
       "    .dataframe tbody tr th {\n",
       "        vertical-align: top;\n",
       "    }\n",
       "\n",
       "    .dataframe thead th {\n",
       "        text-align: right;\n",
       "    }\n",
       "</style>\n",
       "<table border=\"1\" class=\"dataframe\">\n",
       "  <thead>\n",
       "    <tr style=\"text-align: right;\">\n",
       "      <th></th>\n",
       "      <th>fixed acidity</th>\n",
       "      <th>volatile acidity</th>\n",
       "      <th>citric acid</th>\n",
       "      <th>residual sugar</th>\n",
       "      <th>chlorides</th>\n",
       "      <th>free sulfur dioxide</th>\n",
       "      <th>total sulfur dioxide</th>\n",
       "      <th>density</th>\n",
       "      <th>pH</th>\n",
       "      <th>sulphates</th>\n",
       "      <th>alcohol</th>\n",
       "      <th>quality</th>\n",
       "      <th>type_white</th>\n",
       "    </tr>\n",
       "  </thead>\n",
       "  <tbody>\n",
       "    <tr>\n",
       "      <th>0</th>\n",
       "      <td>7.0</td>\n",
       "      <td>0.27</td>\n",
       "      <td>0.36</td>\n",
       "      <td>20.7</td>\n",
       "      <td>0.045</td>\n",
       "      <td>45.0</td>\n",
       "      <td>170.0</td>\n",
       "      <td>1.0010</td>\n",
       "      <td>3.00</td>\n",
       "      <td>0.45</td>\n",
       "      <td>8.8</td>\n",
       "      <td>6</td>\n",
       "      <td>True</td>\n",
       "    </tr>\n",
       "    <tr>\n",
       "      <th>1</th>\n",
       "      <td>6.3</td>\n",
       "      <td>0.30</td>\n",
       "      <td>0.34</td>\n",
       "      <td>1.6</td>\n",
       "      <td>0.049</td>\n",
       "      <td>14.0</td>\n",
       "      <td>132.0</td>\n",
       "      <td>0.9940</td>\n",
       "      <td>3.30</td>\n",
       "      <td>0.49</td>\n",
       "      <td>9.5</td>\n",
       "      <td>6</td>\n",
       "      <td>True</td>\n",
       "    </tr>\n",
       "    <tr>\n",
       "      <th>2</th>\n",
       "      <td>8.1</td>\n",
       "      <td>0.28</td>\n",
       "      <td>0.40</td>\n",
       "      <td>6.9</td>\n",
       "      <td>0.050</td>\n",
       "      <td>30.0</td>\n",
       "      <td>97.0</td>\n",
       "      <td>0.9951</td>\n",
       "      <td>3.26</td>\n",
       "      <td>0.44</td>\n",
       "      <td>10.1</td>\n",
       "      <td>6</td>\n",
       "      <td>True</td>\n",
       "    </tr>\n",
       "  </tbody>\n",
       "</table>\n",
       "</div>"
      ],
      "text/plain": [
       "   fixed acidity  volatile acidity  citric acid  residual sugar  chlorides   \n",
       "0            7.0              0.27         0.36            20.7      0.045  \\\n",
       "1            6.3              0.30         0.34             1.6      0.049   \n",
       "2            8.1              0.28         0.40             6.9      0.050   \n",
       "\n",
       "   free sulfur dioxide  total sulfur dioxide  density    pH  sulphates   \n",
       "0                 45.0                 170.0   1.0010  3.00       0.45  \\\n",
       "1                 14.0                 132.0   0.9940  3.30       0.49   \n",
       "2                 30.0                  97.0   0.9951  3.26       0.44   \n",
       "\n",
       "   alcohol  quality  type_white  \n",
       "0      8.8        6        True  \n",
       "1      9.5        6        True  \n",
       "2     10.1        6        True  "
      ]
     },
     "execution_count": 12,
     "metadata": {},
     "output_type": "execute_result"
    }
   ],
   "source": [
    "df.head(3)"
   ]
  },
  {
   "cell_type": "markdown",
   "metadata": {
    "id": "p36NT9S-WiZ5"
   },
   "source": [
    "### 1.1.3 Separación de conjuntos\n",
    "\n",
    "> a) Separe el conjunto entre variables características y variable objetivo.\n",
    "\n",
    "> b) Separe el conjunto de datos en un conjunto de entrenamiento y conjunto de prueba, utilizando una proporción 80%-20% respectivamente.\n",
    "\n",
    "> c) Una vez separado los conjuntos, obtenga la media de cada variable con datos faltantes en el conjunto de **entrenamiento** y reemplace los valores faltantes (NaN) de ambos conjuntos (entrenamiento y prueba) con dicha media."
   ]
  },
  {
   "cell_type": "code",
   "execution_count": 13,
   "metadata": {
    "id": "Lb8xFji5FspA"
   },
   "outputs": [],
   "source": [
    "X = df.drop(['quality'], axis =1)"
   ]
  },
  {
   "cell_type": "code",
   "execution_count": 14,
   "metadata": {
    "id": "VpVSPfGtFaSY"
   },
   "outputs": [],
   "source": [
    "y = df['quality']"
   ]
  },
  {
   "cell_type": "code",
   "execution_count": 15,
   "metadata": {
    "id": "5pHq_CzJFTSy",
    "tags": []
   },
   "outputs": [],
   "source": [
    "X_train, X_test, y_train, y_test = train_test_split(X, y, test_size=0.2, shuffle=True)"
   ]
  },
  {
   "cell_type": "code",
   "execution_count": 16,
   "metadata": {},
   "outputs": [
    {
     "data": {
      "text/html": [
       "<div>\n",
       "<style scoped>\n",
       "    .dataframe tbody tr th:only-of-type {\n",
       "        vertical-align: middle;\n",
       "    }\n",
       "\n",
       "    .dataframe tbody tr th {\n",
       "        vertical-align: top;\n",
       "    }\n",
       "\n",
       "    .dataframe thead th {\n",
       "        text-align: right;\n",
       "    }\n",
       "</style>\n",
       "<table border=\"1\" class=\"dataframe\">\n",
       "  <thead>\n",
       "    <tr style=\"text-align: right;\">\n",
       "      <th></th>\n",
       "      <th>fixed acidity</th>\n",
       "      <th>volatile acidity</th>\n",
       "      <th>citric acid</th>\n",
       "      <th>residual sugar</th>\n",
       "      <th>chlorides</th>\n",
       "      <th>free sulfur dioxide</th>\n",
       "      <th>total sulfur dioxide</th>\n",
       "      <th>density</th>\n",
       "      <th>pH</th>\n",
       "      <th>sulphates</th>\n",
       "      <th>alcohol</th>\n",
       "      <th>type_white</th>\n",
       "    </tr>\n",
       "  </thead>\n",
       "  <tbody>\n",
       "    <tr>\n",
       "      <th>2553</th>\n",
       "      <td>6.3</td>\n",
       "      <td>0.13</td>\n",
       "      <td>0.42</td>\n",
       "      <td>1.1</td>\n",
       "      <td>0.043</td>\n",
       "      <td>63.0</td>\n",
       "      <td>146.0</td>\n",
       "      <td>0.99066</td>\n",
       "      <td>3.13</td>\n",
       "      <td>0.72</td>\n",
       "      <td>11.2</td>\n",
       "      <td>True</td>\n",
       "    </tr>\n",
       "    <tr>\n",
       "      <th>6342</th>\n",
       "      <td>7.3</td>\n",
       "      <td>0.67</td>\n",
       "      <td>0.02</td>\n",
       "      <td>2.2</td>\n",
       "      <td>0.072</td>\n",
       "      <td>31.0</td>\n",
       "      <td>92.0</td>\n",
       "      <td>0.99566</td>\n",
       "      <td>3.32</td>\n",
       "      <td>0.68</td>\n",
       "      <td>11.1</td>\n",
       "      <td>False</td>\n",
       "    </tr>\n",
       "    <tr>\n",
       "      <th>770</th>\n",
       "      <td>6.8</td>\n",
       "      <td>0.12</td>\n",
       "      <td>0.31</td>\n",
       "      <td>5.2</td>\n",
       "      <td>0.045</td>\n",
       "      <td>29.0</td>\n",
       "      <td>120.0</td>\n",
       "      <td>0.99420</td>\n",
       "      <td>3.41</td>\n",
       "      <td>0.46</td>\n",
       "      <td>9.8</td>\n",
       "      <td>True</td>\n",
       "    </tr>\n",
       "  </tbody>\n",
       "</table>\n",
       "</div>"
      ],
      "text/plain": [
       "      fixed acidity  volatile acidity  citric acid  residual sugar  chlorides   \n",
       "2553            6.3              0.13         0.42             1.1      0.043  \\\n",
       "6342            7.3              0.67         0.02             2.2      0.072   \n",
       "770             6.8              0.12         0.31             5.2      0.045   \n",
       "\n",
       "      free sulfur dioxide  total sulfur dioxide  density    pH  sulphates   \n",
       "2553                 63.0                 146.0  0.99066  3.13       0.72  \\\n",
       "6342                 31.0                  92.0  0.99566  3.32       0.68   \n",
       "770                  29.0                 120.0  0.99420  3.41       0.46   \n",
       "\n",
       "      alcohol  type_white  \n",
       "2553     11.2        True  \n",
       "6342     11.1       False  \n",
       "770       9.8        True  "
      ]
     },
     "execution_count": 16,
     "metadata": {},
     "output_type": "execute_result"
    }
   ],
   "source": [
    "X_train.head(3)"
   ]
  },
  {
   "cell_type": "code",
   "execution_count": 17,
   "metadata": {},
   "outputs": [
    {
     "data": {
      "text/html": [
       "<div>\n",
       "<style scoped>\n",
       "    .dataframe tbody tr th:only-of-type {\n",
       "        vertical-align: middle;\n",
       "    }\n",
       "\n",
       "    .dataframe tbody tr th {\n",
       "        vertical-align: top;\n",
       "    }\n",
       "\n",
       "    .dataframe thead th {\n",
       "        text-align: right;\n",
       "    }\n",
       "</style>\n",
       "<table border=\"1\" class=\"dataframe\">\n",
       "  <thead>\n",
       "    <tr style=\"text-align: right;\">\n",
       "      <th></th>\n",
       "      <th>DataType</th>\n",
       "      <th>Non-null_Values</th>\n",
       "      <th>Unique_Values</th>\n",
       "      <th>NaN_Values</th>\n",
       "      <th>NaN_Values_Percentage</th>\n",
       "    </tr>\n",
       "  </thead>\n",
       "  <tbody>\n",
       "    <tr>\n",
       "      <th>fixed acidity</th>\n",
       "      <td>float64</td>\n",
       "      <td>5192</td>\n",
       "      <td>104</td>\n",
       "      <td>5</td>\n",
       "      <td>0.096209</td>\n",
       "    </tr>\n",
       "    <tr>\n",
       "      <th>volatile acidity</th>\n",
       "      <td>float64</td>\n",
       "      <td>5191</td>\n",
       "      <td>182</td>\n",
       "      <td>6</td>\n",
       "      <td>0.115451</td>\n",
       "    </tr>\n",
       "    <tr>\n",
       "      <th>citric acid</th>\n",
       "      <td>float64</td>\n",
       "      <td>5195</td>\n",
       "      <td>89</td>\n",
       "      <td>2</td>\n",
       "      <td>0.038484</td>\n",
       "    </tr>\n",
       "    <tr>\n",
       "      <th>residual sugar</th>\n",
       "      <td>float64</td>\n",
       "      <td>5195</td>\n",
       "      <td>297</td>\n",
       "      <td>2</td>\n",
       "      <td>0.038484</td>\n",
       "    </tr>\n",
       "    <tr>\n",
       "      <th>chlorides</th>\n",
       "      <td>float64</td>\n",
       "      <td>5195</td>\n",
       "      <td>202</td>\n",
       "      <td>2</td>\n",
       "      <td>0.038484</td>\n",
       "    </tr>\n",
       "    <tr>\n",
       "      <th>pH</th>\n",
       "      <td>float64</td>\n",
       "      <td>5192</td>\n",
       "      <td>104</td>\n",
       "      <td>5</td>\n",
       "      <td>0.096209</td>\n",
       "    </tr>\n",
       "    <tr>\n",
       "      <th>sulphates</th>\n",
       "      <td>float64</td>\n",
       "      <td>5194</td>\n",
       "      <td>108</td>\n",
       "      <td>3</td>\n",
       "      <td>0.057726</td>\n",
       "    </tr>\n",
       "  </tbody>\n",
       "</table>\n",
       "</div>"
      ],
      "text/plain": [
       "                 DataType  Non-null_Values  Unique_Values  NaN_Values   \n",
       "fixed acidity     float64             5192            104           5  \\\n",
       "volatile acidity  float64             5191            182           6   \n",
       "citric acid       float64             5195             89           2   \n",
       "residual sugar    float64             5195            297           2   \n",
       "chlorides         float64             5195            202           2   \n",
       "pH                float64             5192            104           5   \n",
       "sulphates         float64             5194            108           3   \n",
       "\n",
       "                  NaN_Values_Percentage  \n",
       "fixed acidity                  0.096209  \n",
       "volatile acidity               0.115451  \n",
       "citric acid                    0.038484  \n",
       "residual sugar                 0.038484  \n",
       "chlorides                      0.038484  \n",
       "pH                             0.096209  \n",
       "sulphates                      0.057726  "
      ]
     },
     "execution_count": 17,
     "metadata": {},
     "output_type": "execute_result"
    }
   ],
   "source": [
    "X_train_info_NaN = datainfo(X_train)[(datainfo(X_train).NaN_Values!=0)]\n",
    "X_train_info_NaN"
   ]
  },
  {
   "cell_type": "code",
   "execution_count": 18,
   "metadata": {
    "id": "PyNHkiX9n6m0"
   },
   "outputs": [],
   "source": [
    "columns_NaN = X_train_info_NaN.index\n",
    "for col in columns_NaN:\n",
    "    X_train[col].fillna(value=X_train[col].mean(), inplace=True)\n",
    "    \n",
    "#Columnas mensionadas en pauta\n",
    "#df['fixed acidity'] = ?\n",
    "#df['volatile acidity'] = ?\n",
    "#df['citric acid'] = ?\n",
    "#df['residual sugar'] = ?\n",
    "\n",
    "#Columnas reconocidas\n",
    "#df['chlorides'] = ?\n",
    "#df['pH'] = ?\n",
    "#df['sulphates'] = ?"
   ]
  },
  {
   "cell_type": "code",
   "execution_count": 19,
   "metadata": {},
   "outputs": [
    {
     "data": {
      "text/html": [
       "<div>\n",
       "<style scoped>\n",
       "    .dataframe tbody tr th:only-of-type {\n",
       "        vertical-align: middle;\n",
       "    }\n",
       "\n",
       "    .dataframe tbody tr th {\n",
       "        vertical-align: top;\n",
       "    }\n",
       "\n",
       "    .dataframe thead th {\n",
       "        text-align: right;\n",
       "    }\n",
       "</style>\n",
       "<table border=\"1\" class=\"dataframe\">\n",
       "  <thead>\n",
       "    <tr style=\"text-align: right;\">\n",
       "      <th></th>\n",
       "      <th>DataType</th>\n",
       "      <th>Non-null_Values</th>\n",
       "      <th>Unique_Values</th>\n",
       "      <th>NaN_Values</th>\n",
       "      <th>NaN_Values_Percentage</th>\n",
       "    </tr>\n",
       "  </thead>\n",
       "  <tbody>\n",
       "    <tr>\n",
       "      <th>fixed acidity</th>\n",
       "      <td>float64</td>\n",
       "      <td>5197</td>\n",
       "      <td>105</td>\n",
       "      <td>0</td>\n",
       "      <td>0.0</td>\n",
       "    </tr>\n",
       "    <tr>\n",
       "      <th>volatile acidity</th>\n",
       "      <td>float64</td>\n",
       "      <td>5197</td>\n",
       "      <td>183</td>\n",
       "      <td>0</td>\n",
       "      <td>0.0</td>\n",
       "    </tr>\n",
       "    <tr>\n",
       "      <th>citric acid</th>\n",
       "      <td>float64</td>\n",
       "      <td>5197</td>\n",
       "      <td>90</td>\n",
       "      <td>0</td>\n",
       "      <td>0.0</td>\n",
       "    </tr>\n",
       "    <tr>\n",
       "      <th>residual sugar</th>\n",
       "      <td>float64</td>\n",
       "      <td>5197</td>\n",
       "      <td>298</td>\n",
       "      <td>0</td>\n",
       "      <td>0.0</td>\n",
       "    </tr>\n",
       "    <tr>\n",
       "      <th>chlorides</th>\n",
       "      <td>float64</td>\n",
       "      <td>5197</td>\n",
       "      <td>203</td>\n",
       "      <td>0</td>\n",
       "      <td>0.0</td>\n",
       "    </tr>\n",
       "    <tr>\n",
       "      <th>free sulfur dioxide</th>\n",
       "      <td>float64</td>\n",
       "      <td>5197</td>\n",
       "      <td>129</td>\n",
       "      <td>0</td>\n",
       "      <td>0.0</td>\n",
       "    </tr>\n",
       "    <tr>\n",
       "      <th>total sulfur dioxide</th>\n",
       "      <td>float64</td>\n",
       "      <td>5197</td>\n",
       "      <td>268</td>\n",
       "      <td>0</td>\n",
       "      <td>0.0</td>\n",
       "    </tr>\n",
       "    <tr>\n",
       "      <th>density</th>\n",
       "      <td>float64</td>\n",
       "      <td>5197</td>\n",
       "      <td>941</td>\n",
       "      <td>0</td>\n",
       "      <td>0.0</td>\n",
       "    </tr>\n",
       "    <tr>\n",
       "      <th>pH</th>\n",
       "      <td>float64</td>\n",
       "      <td>5197</td>\n",
       "      <td>105</td>\n",
       "      <td>0</td>\n",
       "      <td>0.0</td>\n",
       "    </tr>\n",
       "    <tr>\n",
       "      <th>sulphates</th>\n",
       "      <td>float64</td>\n",
       "      <td>5197</td>\n",
       "      <td>109</td>\n",
       "      <td>0</td>\n",
       "      <td>0.0</td>\n",
       "    </tr>\n",
       "    <tr>\n",
       "      <th>alcohol</th>\n",
       "      <td>float64</td>\n",
       "      <td>5197</td>\n",
       "      <td>106</td>\n",
       "      <td>0</td>\n",
       "      <td>0.0</td>\n",
       "    </tr>\n",
       "    <tr>\n",
       "      <th>type_white</th>\n",
       "      <td>bool</td>\n",
       "      <td>5197</td>\n",
       "      <td>2</td>\n",
       "      <td>0</td>\n",
       "      <td>0.0</td>\n",
       "    </tr>\n",
       "  </tbody>\n",
       "</table>\n",
       "</div>"
      ],
      "text/plain": [
       "                     DataType  Non-null_Values  Unique_Values  NaN_Values   \n",
       "fixed acidity         float64             5197            105           0  \\\n",
       "volatile acidity      float64             5197            183           0   \n",
       "citric acid           float64             5197             90           0   \n",
       "residual sugar        float64             5197            298           0   \n",
       "chlorides             float64             5197            203           0   \n",
       "free sulfur dioxide   float64             5197            129           0   \n",
       "total sulfur dioxide  float64             5197            268           0   \n",
       "density               float64             5197            941           0   \n",
       "pH                    float64             5197            105           0   \n",
       "sulphates             float64             5197            109           0   \n",
       "alcohol               float64             5197            106           0   \n",
       "type_white               bool             5197              2           0   \n",
       "\n",
       "                      NaN_Values_Percentage  \n",
       "fixed acidity                           0.0  \n",
       "volatile acidity                        0.0  \n",
       "citric acid                             0.0  \n",
       "residual sugar                          0.0  \n",
       "chlorides                               0.0  \n",
       "free sulfur dioxide                     0.0  \n",
       "total sulfur dioxide                    0.0  \n",
       "density                                 0.0  \n",
       "pH                                      0.0  \n",
       "sulphates                               0.0  \n",
       "alcohol                                 0.0  \n",
       "type_white                              0.0  "
      ]
     },
     "execution_count": 19,
     "metadata": {},
     "output_type": "execute_result"
    }
   ],
   "source": [
    "datainfo(X_train)"
   ]
  },
  {
   "cell_type": "markdown",
   "metadata": {
    "id": "-lWZJgV7oYSg"
   },
   "source": [
    "> d) Estandarice las variables categóricas numéricas no binarias, es decir, todas excepto el tipo de vino y la variable objetivo."
   ]
  },
  {
   "cell_type": "code",
   "execution_count": 20,
   "metadata": {
    "id": "f0oIEq98H7cL"
   },
   "outputs": [],
   "source": [
    "X_scaler = preprocessing.StandardScaler()\n",
    "y_scaler = preprocessing.StandardScaler()\n",
    "\n",
    "\n",
    "cols_to_normalize = datainfo(X).index.to_list()\n",
    "cols_to_normalize.remove('type_white')\n",
    "\n",
    "X_train[cols_to_normalize] = X_scaler.fit_transform(X_train[cols_to_normalize])\n",
    "#y_train = y_train.fit_transform(y_train[cols_to_normalize])\n",
    "\n",
    "X_test[cols_to_normalize] = X_scaler.transform(X_test[cols_to_normalize])"
   ]
  },
  {
   "cell_type": "markdown",
   "metadata": {
    "id": "BDqQNoG7rhQ7"
   },
   "source": [
    "e) Grafique la relevancia de cada variable con respecto a la variable objetivo utilizando la información mutua entre ambas, en otras palabras: MutualInformation($x_i,y$) siendo $x_i$ la $i$-ésima variable."
   ]
  },
  {
   "cell_type": "code",
   "execution_count": 36,
   "metadata": {},
   "outputs": [],
   "source": [
    "mi = mutual_info_classif(X_train, y_train)\n",
    "df_mi = pd.DataFrame(X_train.columns,columns=[\"columns\"])\n",
    "df_mi[\"mi\"] = mutual_info_classif(X_train, y_train)"
   ]
  },
  {
   "cell_type": "code",
   "execution_count": 39,
   "metadata": {},
   "outputs": [
    {
     "data": {
      "image/png": "[encoded data removed]",
      "text/plain": [
       "<Figure size 800x800 with 1 Axes>"
      ]
     },
     "metadata": {},
     "output_type": "display_data"
    }
   ],
   "source": [
    "plt.figure(figsize=[8,8])\n",
    "sns.barplot(data=df_mi, y=\"columns\", x=\"mi\", orient=\"h\")\n",
    "plt.show()"
   ]
  },
  {
   "cell_type": "markdown",
   "metadata": {
    "id": "YlrYOAqhs_M9"
   },
   "source": [
    "> f) Cree un segundo conjunto quitando las características que menos aportan información según lo observado en su gráfico de la pregunta anterior. El número de características a quitar es algo que usted deberá escoger y argumentar por qué lo escogió. En adelante al conjunto con todas las variables lo llamaremos conjunto $\\textit{A}$ y al nuevo conjunto creado con las características quitadas lo llamaremos conjunto $\\textit{B}$."
   ]
  },
  {
   "cell_type": "code",
   "execution_count": null,
   "metadata": {
    "id": "V9GntnP0cl0B"
   },
   "outputs": [],
   "source": [
    "A = (X_train_a, y_train_a, X_test_a, y_test_a)\n",
    "B = (X_train_b, y_train_b, X_test_b, y_test_b)\n",
    "..."
   ]
  },
  {
   "cell_type": "markdown",
   "metadata": {
    "id": "TFTHk1mUgrdq"
   },
   "source": [
    "## 1.2 Modelos de Regresión\n",
    "\n",
    "Para las siguientes preguntas usted debera entrenar, validar y evaluar los modelos utilizando los conjuntos $A$ y $B$ por separado, para luego hacer las respectivas comparaciones entre ambos. Cada modelo tiene sus propios hiperparámetros que usted deberá ajustar a través de una búsqueda en grilla, obteniendo así un conjunto de modelos distintos para posteriormente comparar las métricas de evaluación sobre el conjunto de prueba. Usted estará explorando un subconjunto del espacio de hipótesis variando los hiperparámetros que se le indiquen en cada modelo usando el módulo gridsearchcv de la librería sklearn. En el módulo gridsearchcv fije fije los parámetros de la forma: "
   ]
  },
  {
   "cell_type": "code",
   "execution_count": null,
   "metadata": {
    "id": "tcndRMyXhgXz"
   },
   "outputs": [],
   "source": [
    "GridSearchCV(estimator, param_grid, scoring=mean_squared_error, refit=True)"
   ]
  },
  {
   "cell_type": "markdown",
   "metadata": {
    "id": "0SKTwg4LhtjU"
   },
   "source": [
    "Siendo estimator el modelo a utilizar, scoring, la métrica para evaluar el modelo y refit=True para una vez probado todo el subconjunto del espacio de hipótesis, escojer el mejor modelo y entrnarlo con todo el conjunto de entrenamiento.\n",
    "\n",
    "**Nota:** puede utilizar parte del código utilizado en la tarea 1 de esta asignatura."
   ]
  },
  {
   "cell_type": "markdown",
   "metadata": {
    "id": "KqzXP2_EgyPE"
   },
   "source": [
    "### 1.2.1 Árbol de regresión\n",
    "\n",
    "Entrene un árbol de regresión manteniendo fijos por defecto los que no se mencionen y variando los siguientes parámetros utilizando el módulo gridsearchcv de la librería sklearn:\n",
    "\n",
    "> a) max_depth: Probar con las profundidades 2, 20, 200. Describa brevemente qué es lo que significa modificar este hiperparámetro.\n",
    "\n",
    "> b) max_leaf_nodes: Probar con los valores 10, 50, 100. Describa brevemente qué es lo que significa modificar este hiperparámetro.\n",
    "\n",
    "Responda las siguientes preguntas:\n",
    "\n",
    "> c) ¿Cuántos modelos de árboles de regresión le quedan en total?\n",
    "\n",
    "> d) De todas las combinaciones que entrenó, ¿cual es la que mejores resultados le da? Para esta pregunta evalue el modelo con el conjunto de validación de la grilla utilizando la métrica de evaluación $mean\\_squared\\_error$.\n",
    "\n",
    "**Nota:** Recuerde que estos experimentos debe realizarlos para ambas representaciones de los conjuntos ($A$ y $B$).\n",
    "\n"
   ]
  },
  {
   "cell_type": "code",
   "execution_count": null,
   "metadata": {
    "id": "H0h2HKeeGrjR"
   },
   "outputs": [],
   "source": [
    "model1 = DecisionTreeRegressor(...)\n",
    "model1.fit(X_train,y_train)"
   ]
  },
  {
   "cell_type": "code",
   "execution_count": null,
   "metadata": {
    "id": "q84LkcWlJ6PQ"
   },
   "outputs": [],
   "source": [
    "y_pred = y_scaler.inverse_transform(np.array(model1.predict(X_test)).reshape(-1, 1))\n",
    "print(mean_squared_error(y_test, y_pred))"
   ]
  },
  {
   "cell_type": "markdown",
   "metadata": {
    "id": "2M87NTHqpYsO"
   },
   "source": [
    "> c) Entrene el conjunto de entrenamiento completo con el mejor modelo y mejor representación ($A$ o $B$) obtenida y evalúe su desempeño sobre el conjunto de prueba utilizando la métrica de evaluación $mean\\_squared\\_error$."
   ]
  },
  {
   "cell_type": "markdown",
   "metadata": {
    "id": "UNVi9PhtjAGQ"
   },
   "source": [
    "### 1.2.2 Random Forest Regressor\n",
    "\n",
    "Entrene un bosque aleatorio de regresión manteniendo fijos por defecto los que no se mencionen y variando los siguientes parámetros utilizando el módulo gridsearchcv de la librería sklearn:\n",
    "\n",
    "* max_depth: Probar con las profundidades 2, 20, 200. Describa brevemente qué es lo que significa modificar este hiperparámetro.\n",
    "\n",
    "* max_samples: Probar con las siguientes proporciones 0.1, 0.5, 1.0. Describa brevemente qué es lo que significa modificar este hiperparámetro.\n",
    "\n",
    "El objetivo de los métodos $\\textit{ensemble machine}$ es combinar las predicciones de varios estimadores base construidos con un algoritmo de aprendizaje determinado para mejorar la capacidad de generalización / robustez respecto a un único estimador. Se suelen distinguir dos familias de métodos ensemble: los métodos $averaging$ y los métodos $boosting$. Respecto a lo anterior responda las siguientes preguntas:\n",
    "\n",
    "> a) Defina con sus propias palabras qué son y en qué se diferencian los métodos $averaging$ y $boosting$.\n",
    "\n",
    "> b) A cual de los dos anteriormente definidos pertenece el modelo de regresión Random Forest?\n",
    "\n",
    "> c) De todas las combinaciones que entrenó, ¿cual es la que mejores resultados le da? Para esta pregunta evalue el modelo con el conjunto de validación utilizando la métrica de evaluación $mean\\_squared\\_error$."
   ]
  },
  {
   "cell_type": "code",
   "execution_count": null,
   "metadata": {
    "id": "ClyEIzg8jJam"
   },
   "outputs": [],
   "source": [
    "model2 = RandomForestRegressor(random_state=0)\n",
    "model2.fit(X_train,y_train)"
   ]
  },
  {
   "cell_type": "code",
   "execution_count": null,
   "metadata": {
    "id": "xX5LD9Y2jNP9"
   },
   "outputs": [],
   "source": [
    "y_pred = y_scaler.inverse_transform(np.array(model2.predict(X_test)).reshape(-1, 1))\n",
    "print(mean_squared_error(y_test, y_pred))"
   ]
  },
  {
   "cell_type": "markdown",
   "metadata": {
    "id": "W4fwVniNjgPM"
   },
   "source": [
    "### 1.2.3 Bagging Regressor\n",
    "\n",
    "Entrene un Bagging regresor utilizando como estimador (parámetro $estimator$) el mejor árbol de decisión obtenido en la pregunta 1.2.1, variando los siguientes parámetros utilizando el módulo gridsearchcv de la librería sklearn:\n",
    "\n",
    "* n_estimators: Probar con 10, 100, 1000 estimadores. Describa brevemente qué es lo que significa modificar este hiperparámetro.\n",
    "\n",
    "* max_samples: Probar con las siguientes proporciones 0.1, 0.5, 1.0. Describa brevemente qué es lo que significa modificar este hiperparámetro.\n",
    "\n",
    "Responda las siguientes preguntas\n",
    "\n",
    "> a) ¿Cómo funciona el modelo Bagging?\n",
    "\n",
    "> b) A qué familia de métodos pertenece el Bagging regresor: $averaging$ o $boosting$.\n",
    "\n",
    "> c) De todas las combinaciones que entrenó, ¿cual es la que mejores resultados le da? Para esta pregunta evalue el modelo con el conjunto de validación utilizando la métrica de evaluación $mean\\_squared\\_error$."
   ]
  },
  {
   "cell_type": "code",
   "execution_count": null,
   "metadata": {
    "id": "bjK6R0g3jkLd"
   },
   "outputs": [],
   "source": [
    "model3 = BaggingRegressor(...)\n",
    "model3.fit(X_train,y_train)"
   ]
  },
  {
   "cell_type": "code",
   "execution_count": null,
   "metadata": {
    "id": "X5VwA8YkjooA"
   },
   "outputs": [],
   "source": [
    "y_pred = y_scaler.inverse_transform(np.array(model3.predict(X_test)).reshape(-1, 1))\n",
    "print(mean_squared_error(y_test, y_pred))"
   ]
  },
  {
   "cell_type": "markdown",
   "metadata": {
    "id": "pay3G53ZkkdA"
   },
   "source": [
    "## 1.3 Conclusiones\n",
    "\n",
    "Comente con qué modelo y representación obtiene los mejores resultados, ¿qué otros experimentos realizaría para intentar mejorar los resultados?"
   ]
  },
  {
   "cell_type": "markdown",
   "metadata": {
    "id": "A3M0LqssgFsS"
   },
   "source": [
    "# 2. Reconocimiento de actividad humana mediante sensores de movimiento.\n",
    "\n",
    "Los conjuntos de datos provienen del UCI Machine Learning Repository. En este conjuntos de datos cada persona realizó seis actividades (CWALKING, WALKING_UPSTAIRS, WALKING_DOWNSTAIRS, SITTING, STANDING, LAYING) llevando un smartphone en la cintura. Utilizando su acelerómetro y giroscopio integrados, capturamos la aceleración lineal de 3 ejes y la velocidad angular de 3 ejes a una frecuencia constante de 50 Hz. El conjunto de datos obtenido se ha dividido aleatoriamente en dos conjuntos, de los que se seleccionó el 70% de los voluntarios para generar los datos de entrenamiento y el 30% los datos de prueba.\n",
    "\n",
    "<center><img src=\"https://imgtr.ee/images/2023/06/04/bSx54.jpg\" alt=\"bSx54.jpg\" border=\"0\" width=\"480\" height=\"480\" /></center>\n",
    "\n",
    "Para esta pregunta nos centraremos en la tarea de clasificación de actividades (variable objetivo) según los datos de movimiento proporcionados por los sensores (atributos).\n",
    "\n",
    "Para cada registro en el conjunto de datos nos centraremos en:\n",
    "* Aceleración triaxial del acelerómetro (aceleración total) y la aceleración estimada del cuerpo.\n",
    "* Velocidad angular triaxial del giroscopio.\n",
    "\n",
    "* Su etiqueta de actividad.\n",
    "\n",
    "Para obtener el dataset, artículos publicados y más información, por favor dirigirse al siguiente [link](https://archive.ics.uci.edu/ml/datasets/human+activity+recognition+using+smartphones).\n",
    "\n"
   ]
  },
  {
   "cell_type": "markdown",
   "metadata": {
    "id": "PbQApV_ds6rV"
   },
   "source": [
    "## 2.1 Obtención, manipulación y exploración del conjunto de datos\n",
    "\n",
    "Con el link proporcionado arriba, haga click en Data Folders y luego en *UCI HAR Dataset.names* para obtener una guía acerca de la estructura de los directorios. Descargue, descomprima los datos y explore la estructura de los directorios (*UCI HAR Dataset.zip*).\n",
    "\n",
    "Para esta oportunidad solo nos centraremos en los dato que se encuentran en las carpetas *Inertial Signals*, para entrenamiento y pruebas."
   ]
  },
  {
   "cell_type": "markdown",
   "metadata": {
    "id": "-0Bg_ZMkvpvy"
   },
   "source": [
    "### 2.1.1 Exploración del conjunto de datos\n",
    "\n",
    "Una vez comprendida la estructura de los directorios, asegurese de poder navegar por los archivos correctamente:\n",
    "\n",
    "> a) El código a continuación debe imprimir las rutas a todos los archivos del conjunto de datos que usted acaba de descargar. Ejemplo: /su ruta/UCI HAR Dataset/train/Inertial Signals/body_acc_z_train.txt"
   ]
  },
  {
   "cell_type": "code",
   "execution_count": 2,
   "metadata": {
    "id": "qK-hkRBJEiEP"
   },
   "outputs": [
    {
     "name": "stdout",
     "output_type": "stream",
     "text": [
      "content/UCI HAR Dataset\\.DS_Store\n",
      "content/UCI HAR Dataset\\activity_labels.txt\n",
      "content/UCI HAR Dataset\\features.txt\n",
      "content/UCI HAR Dataset\\features_info.txt\n",
      "content/UCI HAR Dataset\\README.txt\n",
      "content/UCI HAR Dataset\\test\\subject_test.txt\n",
      "content/UCI HAR Dataset\\test\\X_test.txt\n",
      "content/UCI HAR Dataset\\test\\y_test.txt\n",
      "content/UCI HAR Dataset\\test\\Inertial Signals\\body_acc_x_test.txt\n",
      "content/UCI HAR Dataset\\test\\Inertial Signals\\body_acc_y_test.txt\n",
      "content/UCI HAR Dataset\\test\\Inertial Signals\\body_acc_z_test.txt\n",
      "content/UCI HAR Dataset\\test\\Inertial Signals\\body_gyro_x_test.txt\n",
      "content/UCI HAR Dataset\\test\\Inertial Signals\\body_gyro_y_test.txt\n",
      "content/UCI HAR Dataset\\test\\Inertial Signals\\body_gyro_z_test.txt\n",
      "content/UCI HAR Dataset\\test\\Inertial Signals\\total_acc_x_test.txt\n",
      "content/UCI HAR Dataset\\test\\Inertial Signals\\total_acc_y_test.txt\n",
      "content/UCI HAR Dataset\\test\\Inertial Signals\\total_acc_z_test.txt\n",
      "content/UCI HAR Dataset\\train\\subject_train.txt\n",
      "content/UCI HAR Dataset\\train\\X_train.txt\n",
      "content/UCI HAR Dataset\\train\\y_train.txt\n",
      "content/UCI HAR Dataset\\train\\Inertial Signals\\body_acc_x_train.txt\n",
      "content/UCI HAR Dataset\\train\\Inertial Signals\\body_acc_y_train.txt\n",
      "content/UCI HAR Dataset\\train\\Inertial Signals\\body_acc_z_train.txt\n",
      "content/UCI HAR Dataset\\train\\Inertial Signals\\body_gyro_x_train.txt\n",
      "content/UCI HAR Dataset\\train\\Inertial Signals\\body_gyro_y_train.txt\n",
      "content/UCI HAR Dataset\\train\\Inertial Signals\\body_gyro_z_train.txt\n",
      "content/UCI HAR Dataset\\train\\Inertial Signals\\total_acc_x_train.txt\n",
      "content/UCI HAR Dataset\\train\\Inertial Signals\\total_acc_y_train.txt\n",
      "content/UCI HAR Dataset\\train\\Inertial Signals\\total_acc_z_train.txt\n"
     ]
    }
   ],
   "source": [
    "import os\n",
    "for dirname, _, filenames in os.walk('content/UCI HAR Dataset'):\n",
    "    for filename in filenames:\n",
    "        print(os.path.join(dirname, filename))"
   ]
  },
  {
   "cell_type": "code",
   "execution_count": 3,
   "metadata": {
    "id": "eREpRAkMIh06"
   },
   "outputs": [],
   "source": [
    "LABELS = ['WALKING', 'WALKING_UPSTAIRS', 'WALKING_DOWNSTAIRS', 'SITTING', 'STANDING', 'LAYING']\n",
    "SIGNALS = [\"body_acc_x_\", \"body_acc_y_\", \"body_acc_z_\",\n",
    "           \"body_gyro_x_\", \"body_gyro_y_\", \"body_gyro_z_\",\n",
    "           \"total_acc_x_\", \"total_acc_y_\", \"total_acc_z_\"]"
   ]
  },
  {
   "cell_type": "markdown",
   "metadata": {
    "id": "gV3t_zAMyTIZ"
   },
   "source": [
    "> b) Obtenga la ruta exacta de los archivos e insertelos en una lista (entrenamiento y prueba ). El código a continuación es solo una sugerencia, usted puede optimizar y modificarlo."
   ]
  },
  {
   "cell_type": "code",
   "execution_count": 4,
   "metadata": {
    "id": "seHdXXlTIlB_"
   },
   "outputs": [],
   "source": [
    "train_paths = ['content/UCI HAR Dataset/train/Inertial Signals/' + signal + 'train.txt' for signal in SIGNALS]\n",
    "test_paths = ['content/UCI HAR Dataset/test/Inertial Signals/' + signal + 'test.txt' for signal in SIGNALS]"
   ]
  },
  {
   "cell_type": "markdown",
   "metadata": {
    "id": "D-XeCXTPy_0I"
   },
   "source": [
    "> c) Cree una función __load_X que reciba una lista de rutas como alguna de las anteriormente creadas, y retorne un arreglo de numpy con las siguientes dimensiones (n_samples, signal_len, sensor) donde:\n",
    "* n_samples: es el tamaño de la muestra, o sea, el total de experimentos.\n",
    "* signal_len: es el largo de la señal de los sensores.\n",
    "* sensor: es el sensor o el eje del sensor el cual registra la señal, por ejemplo acelerómetro en el eje $y$.\n"
   ]
  },
  {
   "cell_type": "code",
   "execution_count": 58,
   "metadata": {},
   "outputs": [],
   "source": [
    "def __load_X(paths):\n",
    "    dimensiones = []\n",
    "    data = []\n",
    "    for path in paths:\n",
    "        with open(path, 'r') as file:\n",
    "            samples = []\n",
    "            for line in file:\n",
    "                values = [float(x) for x in line.split()]\n",
    "                samples.append(values)\n",
    "            data.append(samples)\n",
    "    \n",
    "    data = np.array(data)\n",
    "    data = np.transpose(data,(1,2,0))\n",
    "    return data"
   ]
  },
  {
   "cell_type": "code",
   "execution_count": 59,
   "metadata": {},
   "outputs": [],
   "source": [
    "x_train = __load_X(train_paths)\n",
    "x_test = __load_X(test_paths)"
   ]
  },
  {
   "cell_type": "markdown",
   "metadata": {
    "id": "uw_PBgBN1I6J"
   },
   "source": [
    "> d) Cargue las clases del conjunto de entrenamiento y pruebas en arreglos numpy."
   ]
  },
  {
   "cell_type": "code",
   "execution_count": 60,
   "metadata": {
    "id": "Gb0t2nELJEC7"
   },
   "outputs": [],
   "source": [
    "y_train = np.loadtxt('content/UCI HAR Dataset/train/y_train.txt',  dtype=np.int32)\n",
    "y_test = np.loadtxt('content/UCI HAR Dataset/test/y_test.txt', dtype=np.int32)"
   ]
  },
  {
   "cell_type": "markdown",
   "metadata": {
    "id": "pc1PFOmo2OUx"
   },
   "source": [
    "### 2.1.2 Análisis del conjunto de datos\n",
    "\n",
    "Responda las siguientes preguntas:\n",
    "\n",
    "> a) ¿Cuántos experimentos le quedan en el conjunto de entrenamiento y en el de test?\n",
    "\n",
    "> b) ¿Qué valores obtiene para las dimensiones recién definidas (n_samples, signal_len, sensor)?\n",
    "\n",
    "> c) Considerando todo lo que usted ha aprendido en este curso y en las tareas anteriores, ¿Qué puede decir de los atributos de este conjunto de datos?. Obtenga estadísticas descriptivas y sintetice brevemente con sus propias palabras lo que observe, apoyándose de gráficos como histográmas, boxplots heatmaps de correlación, etc.\n",
    "\n",
    "> d) Si quisiera entrenar una red neuronal feedforward con este conjunto de datos, ¿cómo deben representarse las dimensiones de cada experimento (sample) para que sirvan de entrada para este tipo de red?\n",
    "\n",
    "> e) Modifique las dimensiones de los atributos para luego entrenar una red neuronal feedforward."
   ]
  },
  {
   "cell_type": "code",
   "execution_count": 61,
   "metadata": {
    "id": "OvTNRfU-KDxO"
   },
   "outputs": [],
   "source": [
    "x_train = x_train.reshape((x_train.shape[0], x_train.shape[1] * x_train.shape[2]))\n",
    "x_test = x_test.reshape((x_test.shape[0], x_test.shape[1] * x_test.shape[2]))"
   ]
  },
  {
   "cell_type": "markdown",
   "metadata": {
    "id": "NnHLIZLCGJ7z"
   },
   "source": [
    "> f) ¿Cómo quedó cada atributo ahora que modificó sus dimensiones?"
   ]
  },
  {
   "cell_type": "markdown",
   "metadata": {
    "id": "t24ihaodFuSk"
   },
   "source": [
    "### 2.1.3 Procesamiento del conjunto de datos\n",
    "\n",
    "> a)Transforme las clases a One Hot Encoder"
   ]
  },
  {
   "cell_type": "code",
   "execution_count": 65,
   "metadata": {
    "colab": {
     "base_uri": "https://localhost:8080/"
    },
    "id": "OA9KM95lNAmk",
    "outputId": "791a741f-910b-49a4-c377-6d74c4383595"
   },
   "outputs": [
    {
     "name": "stdout",
     "output_type": "stream",
     "text": [
      "Original Labels:\n",
      "(7352,)\n",
      "\n",
      "One-Hot Encoded Labels:\n",
      "(7352, 6)\n"
     ]
    }
   ],
   "source": [
    "onehot_encoder = OneHotEncoder(sparse_output=False)\n",
    "\n",
    "y_train_OHE = onehot_encoder.fit_transform(y_train.reshape(len(y_train), 1))\n",
    "y_test_OHE = onehot_encoder.transform(y_test.reshape(len(y_test), 1))\n",
    "\n",
    "# Print the original labels and the one-hot encoded labels\n",
    "print(\"Original Labels:\")\n",
    "print(y_train.shape)\n",
    "print(\"\\nOne-Hot Encoded Labels:\")\n",
    "print(y_train_OHE.shape)"
   ]
  },
  {
   "cell_type": "code",
   "execution_count": 70,
   "metadata": {
    "id": "cPN-BmgKSNS1"
   },
   "outputs": [
    {
     "data": {
      "text/plain": [
       "'SITTING'"
      ]
     },
     "execution_count": 70,
     "metadata": {},
     "output_type": "execute_result"
    }
   ],
   "source": [
    "LABELS[np.argmax(y_train_OHE[400])]"
   ]
  },
  {
   "cell_type": "markdown",
   "metadata": {
    "id": "DLA0RcqYfveg"
   },
   "source": [
    "> b) ¿Estan bien balanceadas las clases?"
   ]
  },
  {
   "cell_type": "markdown",
   "metadata": {
    "id": "X9B4CW50G25Y"
   },
   "source": [
    "> c) Estandarice los atributos con media 0 y variaza 1."
   ]
  },
  {
   "cell_type": "code",
   "execution_count": 72,
   "metadata": {
    "id": "OSxBl1AlSlsL"
   },
   "outputs": [],
   "source": [
    "from sklearn.preprocessing import StandardScaler\n",
    "\n",
    "# Create a StandardScaler object\n",
    "scaler = StandardScaler()\n",
    "\n",
    "# Fit the scaler on the training data\n",
    "scaler.fit(x_train)\n",
    "\n",
    "# Apply the scaler to transform the training data\n",
    "x_train = scaler.transform(x_train)\n",
    "x_test = scaler.transform(x_test)\n"
   ]
  },
  {
   "cell_type": "markdown",
   "metadata": {
    "id": "71HaVDffHEFs"
   },
   "source": [
    "## 2.2 Modelos de clasificación"
   ]
  },
  {
   "cell_type": "markdown",
   "metadata": {
    "id": "oAPZSuZvHbq-"
   },
   "source": [
    "### 2.2.1 Redes Neuronales\n",
    "\n",
    "> a) ¿Cómo se entrena una red neuronal feedforward?\n",
    "\n",
    "> b) ¿Qué es una neurona en este contexto?\n",
    "\n",
    "> c) ¿Qué es una función de activación y para que sirven?\n",
    "\n",
    "> d) ¿A qué se le llama capa densa?\n",
    "\n",
    "> e) Si usted conoce la dimensión entrada, la de salida, la cantidad de capas y neuronas de cada capa, ¿cómo se calcula la cantidad de pesos de la red?\n",
    "\n",
    "> f) ¿A qué se refiere el fenómeno de gradiente desvaneciente?, ¿y el gradiente explosivo?\n",
    "\n",
    "> g) Para esta tarea, como debería ser la capa de salida de la red considerando que previemente aplicó una transformación One Hot Encoding a las clases del conjunto?\n",
    "\n",
    "> h) Considere que la capa de entrada se llama \"input_layer\",  a la capa de salida le llamaremos \"output_layer\" y a las capas intermedias \"hidden_layer(_units_, _activation_)\" donde los parametros significan el numero de neuronas que tiene esa capa densa (Dense en Keras) y su activación. Cree las siguientes redes neuronales:\n",
    "\n",
    "* input_layer -> output_layer\n",
    "\n",
    "* input_layer -> hidden_layer(32, tanh) -> output_layer\n",
    "\n",
    "* input_layer -> hidden_layer(32, sigmoid) -> output_layer\n",
    "\n",
    "* input_layer -> hidden_layer(32, relu) -> output_layer\n",
    "\n",
    "> i) Una vez creado el modelo, imprima el sumario (modelo.summary()) y compare los resultados obtenidos con su razonamiento explicado en la pregunta e)."
   ]
  },
  {
   "cell_type": "code",
   "execution_count": 83,
   "metadata": {
    "id": "3khbB8B9KRbf"
   },
   "outputs": [],
   "source": [
    "from tensorflow.keras.layers import Input, Dense\n",
    "from tensorflow.keras.models import Model\n",
    "\n",
    "input_layer = Input(shape = (x_train.shape[1:]))\n",
    "\n",
    "layer_1 = Dense(units=16, activation='relu')(input_layer)\n",
    "layer_2 = Dense(units=64, activation='relu')(layer_1)\n",
    "layer_3 = Dense(units=32, activation='relu')(layer_2)\n",
    "layer_4 = Dense(units=16, activation='relu')(layer_3)\n",
    "layer_5 = Dense(units=8, activation='relu')(layer_4)\n",
    "output_layer = Dense(units=6, activation='softmax')(layer_1)\n",
    "\n",
    "ANN = Model(inputs = input_layer , outputs = output_layer)"
   ]
  },
  {
   "cell_type": "code",
   "execution_count": 84,
   "metadata": {
    "id": "PXjL3NxKU0Qd"
   },
   "outputs": [
    {
     "name": "stdout",
     "output_type": "stream",
     "text": [
      "Model: \"model\"\n",
      "_________________________________________________________________\n",
      " Layer (type)                Output Shape              Param #   \n",
      "=================================================================\n",
      " input_4 (InputLayer)        [(None, 1152)]            0         \n",
      "                                                                 \n",
      " dense_6 (Dense)             (None, 16)                18448     \n",
      "                                                                 \n",
      " dense_11 (Dense)            (None, 6)                 102       \n",
      "                                                                 \n",
      "=================================================================\n",
      "Total params: 18,550\n",
      "Trainable params: 18,550\n",
      "Non-trainable params: 0\n",
      "_________________________________________________________________\n"
     ]
    }
   ],
   "source": [
    "ANN.summary()"
   ]
  },
  {
   "cell_type": "markdown",
   "metadata": {
    "id": "65makHJ-R-Ri"
   },
   "source": [
    " > j) Defina un callback de Early Stopping para evitar un sobre ajuste de la red basandose en sus respuestas a las siguientes preguntas:\n",
    "\n",
    "* ¿Qué es lo que se debería monitorear para evitar el sobre ajuste en esta red?\n",
    "\n",
    "* ¿Qué es la paciencia en este contexto?\n",
    "\n",
    "* ¿Para qué se usa el parámetro min_delta?\n",
    "\n",
    "> k) Compile el modelo usando como optimizador el gradiente descendente estocástico, utilice la métrica \"categorical_accuracy\" y responda lo siguiente:\n",
    "\n",
    "* ¿Qúe función de pérdida se debe usar para este problema (loss)?\n",
    "\n",
    "**Nota:** Si bien en un mundo ideal donde hay tiempo y recursos para explorar un subconjunto del espacio de hipótesis lo suficientemente amplio como para cubrir todas las posibles combinaciones de hiperparámetros, en esta tarea solo se explorarán algunos."
   ]
  },
  {
   "cell_type": "code",
   "execution_count": 85,
   "metadata": {
    "id": "H1X90GcGdUhG"
   },
   "outputs": [],
   "source": [
    "from keras.callbacks import ModelCheckpoint, EarlyStopping\n",
    "\n",
    "early_stop = EarlyStopping(monitor='val_accuracy',mode='max', verbose=1, patience=50)\n",
    "ANN.compile(optimizer='sgd', loss='categorical_crossentropy',metrics=['categorical_accuracy'])"
   ]
  },
  {
   "cell_type": "markdown",
   "metadata": {
    "id": "QFnrOI-TZNpY"
   },
   "source": [
    "> l) Entrene el modelo utilizando el callback definido en la pregunta anterior con 100 epochs,un batch_size=256, y validation split=0.1.\n",
    "\n",
    "* ¿Qué significa el batch_size?\n",
    "\n",
    "**Nota:** Por favor recuerde ocultar el output del entrenamiento!! Mantenga el orden de su tarea y justifique de forma óptima sus resultados."
   ]
  },
  {
   "cell_type": "code",
   "execution_count": 86,
   "metadata": {
    "id": "48b7cFteeqFM"
   },
   "outputs": [
    {
     "name": "stdout",
     "output_type": "stream",
     "text": [
      "Epoch 1/100\n",
      " 84/104 [=======================>......] - ETA: 0s - loss: 1.5367 - categorical_accuracy: 0.4016WARNING:tensorflow:Early stopping conditioned on metric `val_accuracy` which is not available. Available metrics are: loss,categorical_accuracy,val_loss,val_categorical_accuracy\n",
      "104/104 [==============================] - 1s 5ms/step - loss: 1.4845 - categorical_accuracy: 0.4193 - val_loss: 1.1478 - val_categorical_accuracy: 0.5408\n",
      "Epoch 2/100\n",
      " 82/104 [======================>.......] - ETA: 0s - loss: 1.0703 - categorical_accuracy: 0.5457WARNING:tensorflow:Early stopping conditioned on metric `val_accuracy` which is not available. Available metrics are: loss,categorical_accuracy,val_loss,val_categorical_accuracy\n",
      "104/104 [==============================] - 0s 2ms/step - loss: 1.0586 - categorical_accuracy: 0.5571 - val_loss: 0.9488 - val_categorical_accuracy: 0.6644\n",
      "Epoch 3/100\n",
      " 98/104 [===========================>..] - ETA: 0s - loss: 0.8877 - categorical_accuracy: 0.6767WARNING:tensorflow:Early stopping conditioned on metric `val_accuracy` which is not available. Available metrics are: loss,categorical_accuracy,val_loss,val_categorical_accuracy\n",
      "104/104 [==============================] - 0s 2ms/step - loss: 0.8841 - categorical_accuracy: 0.6809 - val_loss: 0.8424 - val_categorical_accuracy: 0.6970\n",
      "Epoch 4/100\n",
      " 98/104 [===========================>..] - ETA: 0s - loss: 0.7540 - categorical_accuracy: 0.7585WARNING:tensorflow:Early stopping conditioned on metric `val_accuracy` which is not available. Available metrics are: loss,categorical_accuracy,val_loss,val_categorical_accuracy\n",
      "104/104 [==============================] - 0s 3ms/step - loss: 0.7536 - categorical_accuracy: 0.7582 - val_loss: 0.7285 - val_categorical_accuracy: 0.7323\n",
      "Epoch 5/100\n",
      " 93/104 [=========================>....] - ETA: 0s - loss: 0.6555 - categorical_accuracy: 0.7937WARNING:tensorflow:Early stopping conditioned on metric `val_accuracy` which is not available. Available metrics are: loss,categorical_accuracy,val_loss,val_categorical_accuracy\n",
      "104/104 [==============================] - 0s 2ms/step - loss: 0.6447 - categorical_accuracy: 0.7975 - val_loss: 0.6387 - val_categorical_accuracy: 0.7636\n",
      "Epoch 6/100\n",
      " 99/104 [===========================>..] - ETA: 0s - loss: 0.5552 - categorical_accuracy: 0.8294WARNING:tensorflow:Early stopping conditioned on metric `val_accuracy` which is not available. Available metrics are: loss,categorical_accuracy,val_loss,val_categorical_accuracy\n",
      "104/104 [==============================] - 0s 2ms/step - loss: 0.5514 - categorical_accuracy: 0.8312 - val_loss: 0.5874 - val_categorical_accuracy: 0.7853\n",
      "Epoch 7/100\n",
      " 96/104 [==========================>...] - ETA: 0s - loss: 0.4758 - categorical_accuracy: 0.8545WARNING:tensorflow:Early stopping conditioned on metric `val_accuracy` which is not available. Available metrics are: loss,categorical_accuracy,val_loss,val_categorical_accuracy\n",
      "104/104 [==============================] - 0s 2ms/step - loss: 0.4759 - categorical_accuracy: 0.8534 - val_loss: 0.5326 - val_categorical_accuracy: 0.8043\n",
      "Epoch 8/100\n",
      " 85/104 [=======================>......] - ETA: 0s - loss: 0.4221 - categorical_accuracy: 0.8748WARNING:tensorflow:Early stopping conditioned on metric `val_accuracy` which is not available. Available metrics are: loss,categorical_accuracy,val_loss,val_categorical_accuracy\n",
      "104/104 [==============================] - 0s 3ms/step - loss: 0.4199 - categorical_accuracy: 0.8748 - val_loss: 0.4834 - val_categorical_accuracy: 0.8166\n",
      "Epoch 9/100\n",
      " 78/104 [=====================>........] - ETA: 0s - loss: 0.3827 - categorical_accuracy: 0.8808WARNING:tensorflow:Early stopping conditioned on metric `val_accuracy` which is not available. Available metrics are: loss,categorical_accuracy,val_loss,val_categorical_accuracy\n",
      "104/104 [==============================] - 0s 2ms/step - loss: 0.3764 - categorical_accuracy: 0.8829 - val_loss: 0.4657 - val_categorical_accuracy: 0.8274\n",
      "Epoch 10/100\n",
      " 94/104 [==========================>...] - ETA: 0s - loss: 0.3425 - categorical_accuracy: 0.8941WARNING:tensorflow:Early stopping conditioned on metric `val_accuracy` which is not available. Available metrics are: loss,categorical_accuracy,val_loss,val_categorical_accuracy\n",
      "104/104 [==============================] - 0s 2ms/step - loss: 0.3411 - categorical_accuracy: 0.8945 - val_loss: 0.4560 - val_categorical_accuracy: 0.8383\n",
      "Epoch 11/100\n",
      " 90/104 [========================>.....] - ETA: 0s - loss: 0.3148 - categorical_accuracy: 0.9049WARNING:tensorflow:Early stopping conditioned on metric `val_accuracy` which is not available. Available metrics are: loss,categorical_accuracy,val_loss,val_categorical_accuracy\n",
      "104/104 [==============================] - 0s 2ms/step - loss: 0.3132 - categorical_accuracy: 0.9054 - val_loss: 0.4158 - val_categorical_accuracy: 0.8465\n",
      "Epoch 12/100\n",
      " 87/104 [========================>.....] - ETA: 0s - loss: 0.2896 - categorical_accuracy: 0.9116WARNING:tensorflow:Early stopping conditioned on metric `val_accuracy` which is not available. Available metrics are: loss,categorical_accuracy,val_loss,val_categorical_accuracy\n",
      "104/104 [==============================] - 0s 3ms/step - loss: 0.2907 - categorical_accuracy: 0.9111 - val_loss: 0.3977 - val_categorical_accuracy: 0.8451\n",
      "Epoch 13/100\n",
      " 95/104 [==========================>...] - ETA: 0s - loss: 0.2746 - categorical_accuracy: 0.9132WARNING:tensorflow:Early stopping conditioned on metric `val_accuracy` which is not available. Available metrics are: loss,categorical_accuracy,val_loss,val_categorical_accuracy\n",
      "104/104 [==============================] - 0s 3ms/step - loss: 0.2709 - categorical_accuracy: 0.9152 - val_loss: 0.4076 - val_categorical_accuracy: 0.8383\n",
      "Epoch 14/100\n",
      " 95/104 [==========================>...] - ETA: 0s - loss: 0.2518 - categorical_accuracy: 0.9225WARNING:tensorflow:Early stopping conditioned on metric `val_accuracy` which is not available. Available metrics are: loss,categorical_accuracy,val_loss,val_categorical_accuracy\n",
      "104/104 [==============================] - 0s 3ms/step - loss: 0.2548 - categorical_accuracy: 0.9211 - val_loss: 0.3844 - val_categorical_accuracy: 0.8505\n",
      "Epoch 15/100\n",
      " 88/104 [========================>.....] - ETA: 0s - loss: 0.2434 - categorical_accuracy: 0.9217WARNING:tensorflow:Early stopping conditioned on metric `val_accuracy` which is not available. Available metrics are: loss,categorical_accuracy,val_loss,val_categorical_accuracy\n",
      "104/104 [==============================] - 0s 3ms/step - loss: 0.2409 - categorical_accuracy: 0.9234 - val_loss: 0.3800 - val_categorical_accuracy: 0.8573\n",
      "Epoch 16/100\n",
      " 94/104 [==========================>...] - ETA: 0s - loss: 0.2297 - categorical_accuracy: 0.9275WARNING:tensorflow:Early stopping conditioned on metric `val_accuracy` which is not available. Available metrics are: loss,categorical_accuracy,val_loss,val_categorical_accuracy\n",
      "104/104 [==============================] - 0s 2ms/step - loss: 0.2288 - categorical_accuracy: 0.9271 - val_loss: 0.3815 - val_categorical_accuracy: 0.8560\n",
      "Epoch 17/100\n",
      " 90/104 [========================>.....] - ETA: 0s - loss: 0.2138 - categorical_accuracy: 0.9345WARNING:tensorflow:Early stopping conditioned on metric `val_accuracy` which is not available. Available metrics are: loss,categorical_accuracy,val_loss,val_categorical_accuracy\n",
      "104/104 [==============================] - 0s 2ms/step - loss: 0.2181 - categorical_accuracy: 0.9318 - val_loss: 0.3701 - val_categorical_accuracy: 0.8628\n",
      "Epoch 18/100\n",
      " 97/104 [==========================>...] - ETA: 0s - loss: 0.2096 - categorical_accuracy: 0.9338WARNING:tensorflow:Early stopping conditioned on metric `val_accuracy` which is not available. Available metrics are: loss,categorical_accuracy,val_loss,val_categorical_accuracy\n",
      "104/104 [==============================] - 0s 2ms/step - loss: 0.2092 - categorical_accuracy: 0.9346 - val_loss: 0.3723 - val_categorical_accuracy: 0.8628\n",
      "Epoch 19/100\n",
      " 92/104 [=========================>....] - ETA: 0s - loss: 0.2020 - categorical_accuracy: 0.9373WARNING:tensorflow:Early stopping conditioned on metric `val_accuracy` which is not available. Available metrics are: loss,categorical_accuracy,val_loss,val_categorical_accuracy\n",
      "104/104 [==============================] - 0s 2ms/step - loss: 0.2010 - categorical_accuracy: 0.9377 - val_loss: 0.3615 - val_categorical_accuracy: 0.8696\n",
      "Epoch 20/100\n",
      " 79/104 [=====================>........] - ETA: 0s - loss: 0.1946 - categorical_accuracy: 0.9399WARNING:tensorflow:Early stopping conditioned on metric `val_accuracy` which is not available. Available metrics are: loss,categorical_accuracy,val_loss,val_categorical_accuracy\n",
      "104/104 [==============================] - 0s 2ms/step - loss: 0.1936 - categorical_accuracy: 0.9400 - val_loss: 0.3616 - val_categorical_accuracy: 0.8655\n",
      "Epoch 21/100\n",
      " 87/104 [========================>.....] - ETA: 0s - loss: 0.1844 - categorical_accuracy: 0.9432WARNING:tensorflow:Early stopping conditioned on metric `val_accuracy` which is not available. Available metrics are: loss,categorical_accuracy,val_loss,val_categorical_accuracy\n",
      "104/104 [==============================] - 0s 2ms/step - loss: 0.1869 - categorical_accuracy: 0.9426 - val_loss: 0.3578 - val_categorical_accuracy: 0.8696\n",
      "Epoch 22/100\n",
      "100/104 [===========================>..] - ETA: 0s - loss: 0.1806 - categorical_accuracy: 0.9428WARNING:tensorflow:Early stopping conditioned on metric `val_accuracy` which is not available. Available metrics are: loss,categorical_accuracy,val_loss,val_categorical_accuracy\n",
      "104/104 [==============================] - 0s 2ms/step - loss: 0.1813 - categorical_accuracy: 0.9426 - val_loss: 0.3581 - val_categorical_accuracy: 0.8668\n",
      "Epoch 23/100\n",
      " 92/104 [=========================>....] - ETA: 0s - loss: 0.1779 - categorical_accuracy: 0.9482WARNING:tensorflow:Early stopping conditioned on metric `val_accuracy` which is not available. Available metrics are: loss,categorical_accuracy,val_loss,val_categorical_accuracy\n",
      "104/104 [==============================] - 0s 3ms/step - loss: 0.1759 - categorical_accuracy: 0.9476 - val_loss: 0.3533 - val_categorical_accuracy: 0.8668\n",
      "Epoch 24/100\n",
      " 84/104 [=======================>......] - ETA: 0s - loss: 0.1673 - categorical_accuracy: 0.9487WARNING:tensorflow:Early stopping conditioned on metric `val_accuracy` which is not available. Available metrics are: loss,categorical_accuracy,val_loss,val_categorical_accuracy\n",
      "104/104 [==============================] - 0s 2ms/step - loss: 0.1710 - categorical_accuracy: 0.9474 - val_loss: 0.3479 - val_categorical_accuracy: 0.8682\n",
      "Epoch 25/100\n",
      " 80/104 [======================>.......] - ETA: 0s - loss: 0.1649 - categorical_accuracy: 0.9518WARNING:tensorflow:Early stopping conditioned on metric `val_accuracy` which is not available. Available metrics are: loss,categorical_accuracy,val_loss,val_categorical_accuracy\n",
      "104/104 [==============================] - 0s 2ms/step - loss: 0.1664 - categorical_accuracy: 0.9500 - val_loss: 0.3408 - val_categorical_accuracy: 0.8682\n",
      "Epoch 26/100\n",
      "100/104 [===========================>..] - ETA: 0s - loss: 0.1615 - categorical_accuracy: 0.9502WARNING:tensorflow:Early stopping conditioned on metric `val_accuracy` which is not available. Available metrics are: loss,categorical_accuracy,val_loss,val_categorical_accuracy\n",
      "104/104 [==============================] - 0s 2ms/step - loss: 0.1621 - categorical_accuracy: 0.9500 - val_loss: 0.3506 - val_categorical_accuracy: 0.8709\n",
      "Epoch 27/100\n",
      " 79/104 [=====================>........] - ETA: 0s - loss: 0.1574 - categorical_accuracy: 0.9539WARNING:tensorflow:Early stopping conditioned on metric `val_accuracy` which is not available. Available metrics are: loss,categorical_accuracy,val_loss,val_categorical_accuracy\n",
      "104/104 [==============================] - 0s 2ms/step - loss: 0.1586 - categorical_accuracy: 0.9527 - val_loss: 0.3426 - val_categorical_accuracy: 0.8682\n",
      "Epoch 28/100\n",
      " 93/104 [=========================>....] - ETA: 0s - loss: 0.1528 - categorical_accuracy: 0.9538WARNING:tensorflow:Early stopping conditioned on metric `val_accuracy` which is not available. Available metrics are: loss,categorical_accuracy,val_loss,val_categorical_accuracy\n",
      "104/104 [==============================] - 0s 2ms/step - loss: 0.1551 - categorical_accuracy: 0.9534 - val_loss: 0.3377 - val_categorical_accuracy: 0.8709\n",
      "Epoch 29/100\n",
      " 99/104 [===========================>..] - ETA: 0s - loss: 0.1527 - categorical_accuracy: 0.9519WARNING:tensorflow:Early stopping conditioned on metric `val_accuracy` which is not available. Available metrics are: loss,categorical_accuracy,val_loss,val_categorical_accuracy\n",
      "104/104 [==============================] - 0s 2ms/step - loss: 0.1519 - categorical_accuracy: 0.9527 - val_loss: 0.3355 - val_categorical_accuracy: 0.8696\n",
      "Epoch 30/100\n",
      " 94/104 [==========================>...] - ETA: 0s - loss: 0.1473 - categorical_accuracy: 0.9541WARNING:tensorflow:Early stopping conditioned on metric `val_accuracy` which is not available. Available metrics are: loss,categorical_accuracy,val_loss,val_categorical_accuracy\n",
      "104/104 [==============================] - 0s 3ms/step - loss: 0.1489 - categorical_accuracy: 0.9533 - val_loss: 0.3288 - val_categorical_accuracy: 0.8736\n",
      "Epoch 31/100\n",
      " 88/104 [========================>.....] - ETA: 0s - loss: 0.1448 - categorical_accuracy: 0.9544WARNING:tensorflow:Early stopping conditioned on metric `val_accuracy` which is not available. Available metrics are: loss,categorical_accuracy,val_loss,val_categorical_accuracy\n",
      "104/104 [==============================] - 0s 2ms/step - loss: 0.1461 - categorical_accuracy: 0.9545 - val_loss: 0.3327 - val_categorical_accuracy: 0.8709\n",
      "Epoch 32/100\n",
      " 75/104 [====================>.........] - ETA: 0s - loss: 0.1382 - categorical_accuracy: 0.9573WARNING:tensorflow:Early stopping conditioned on metric `val_accuracy` which is not available. Available metrics are: loss,categorical_accuracy,val_loss,val_categorical_accuracy\n",
      "104/104 [==============================] - 0s 3ms/step - loss: 0.1435 - categorical_accuracy: 0.9562 - val_loss: 0.3299 - val_categorical_accuracy: 0.8723\n",
      "Epoch 33/100\n",
      "101/104 [============================>.] - ETA: 0s - loss: 0.1425 - categorical_accuracy: 0.9567WARNING:tensorflow:Early stopping conditioned on metric `val_accuracy` which is not available. Available metrics are: loss,categorical_accuracy,val_loss,val_categorical_accuracy\n",
      "104/104 [==============================] - 0s 2ms/step - loss: 0.1413 - categorical_accuracy: 0.9568 - val_loss: 0.3266 - val_categorical_accuracy: 0.8723\n",
      "Epoch 34/100\n",
      " 87/104 [========================>.....] - ETA: 0s - loss: 0.1397 - categorical_accuracy: 0.9578WARNING:tensorflow:Early stopping conditioned on metric `val_accuracy` which is not available. Available metrics are: loss,categorical_accuracy,val_loss,val_categorical_accuracy\n",
      "104/104 [==============================] - 0s 3ms/step - loss: 0.1389 - categorical_accuracy: 0.9583 - val_loss: 0.3169 - val_categorical_accuracy: 0.8764\n",
      "Epoch 35/100\n",
      " 87/104 [========================>.....] - ETA: 0s - loss: 0.1378 - categorical_accuracy: 0.9580WARNING:tensorflow:Early stopping conditioned on metric `val_accuracy` which is not available. Available metrics are: loss,categorical_accuracy,val_loss,val_categorical_accuracy\n",
      "104/104 [==============================] - 0s 2ms/step - loss: 0.1370 - categorical_accuracy: 0.9575 - val_loss: 0.3254 - val_categorical_accuracy: 0.8736\n",
      "Epoch 36/100\n",
      " 82/104 [======================>.......] - ETA: 0s - loss: 0.1404 - categorical_accuracy: 0.9577WARNING:tensorflow:Early stopping conditioned on metric `val_accuracy` which is not available. Available metrics are: loss,categorical_accuracy,val_loss,val_categorical_accuracy\n",
      "104/104 [==============================] - 0s 2ms/step - loss: 0.1351 - categorical_accuracy: 0.9584 - val_loss: 0.3235 - val_categorical_accuracy: 0.8723\n",
      "Epoch 37/100\n",
      " 71/104 [===================>..........] - ETA: 0s - loss: 0.1315 - categorical_accuracy: 0.9582WARNING:tensorflow:Early stopping conditioned on metric `val_accuracy` which is not available. Available metrics are: loss,categorical_accuracy,val_loss,val_categorical_accuracy\n",
      "104/104 [==============================] - 0s 2ms/step - loss: 0.1333 - categorical_accuracy: 0.9571 - val_loss: 0.3282 - val_categorical_accuracy: 0.8750\n",
      "Epoch 38/100\n",
      "101/104 [============================>.] - ETA: 0s - loss: 0.1311 - categorical_accuracy: 0.9588WARNING:tensorflow:Early stopping conditioned on metric `val_accuracy` which is not available. Available metrics are: loss,categorical_accuracy,val_loss,val_categorical_accuracy\n",
      "104/104 [==============================] - 0s 3ms/step - loss: 0.1318 - categorical_accuracy: 0.9584 - val_loss: 0.3251 - val_categorical_accuracy: 0.8750\n",
      "Epoch 39/100\n",
      " 98/104 [===========================>..] - ETA: 0s - loss: 0.1322 - categorical_accuracy: 0.9581WARNING:tensorflow:Early stopping conditioned on metric `val_accuracy` which is not available. Available metrics are: loss,categorical_accuracy,val_loss,val_categorical_accuracy\n",
      "104/104 [==============================] - 0s 2ms/step - loss: 0.1303 - categorical_accuracy: 0.9592 - val_loss: 0.3218 - val_categorical_accuracy: 0.8736\n",
      "Epoch 40/100\n",
      " 71/104 [===================>..........] - ETA: 0s - loss: 0.1338 - categorical_accuracy: 0.9584WARNING:tensorflow:Early stopping conditioned on metric `val_accuracy` which is not available. Available metrics are: loss,categorical_accuracy,val_loss,val_categorical_accuracy\n",
      "104/104 [==============================] - 0s 2ms/step - loss: 0.1288 - categorical_accuracy: 0.9592 - val_loss: 0.3141 - val_categorical_accuracy: 0.8764\n",
      "Epoch 41/100\n",
      " 68/104 [==================>...........] - ETA: 0s - loss: 0.1258 - categorical_accuracy: 0.9596WARNING:tensorflow:Early stopping conditioned on metric `val_accuracy` which is not available. Available metrics are: loss,categorical_accuracy,val_loss,val_categorical_accuracy\n",
      "104/104 [==============================] - 0s 2ms/step - loss: 0.1275 - categorical_accuracy: 0.9586 - val_loss: 0.3200 - val_categorical_accuracy: 0.8764\n",
      "Epoch 42/100\n",
      " 74/104 [====================>.........] - ETA: 0s - loss: 0.1237 - categorical_accuracy: 0.9611WARNING:tensorflow:Early stopping conditioned on metric `val_accuracy` which is not available. Available metrics are: loss,categorical_accuracy,val_loss,val_categorical_accuracy\n",
      "104/104 [==============================] - 0s 2ms/step - loss: 0.1263 - categorical_accuracy: 0.9593 - val_loss: 0.3137 - val_categorical_accuracy: 0.8750\n",
      "Epoch 43/100\n",
      " 74/104 [====================>.........] - ETA: 0s - loss: 0.1217 - categorical_accuracy: 0.9582WARNING:tensorflow:Early stopping conditioned on metric `val_accuracy` which is not available. Available metrics are: loss,categorical_accuracy,val_loss,val_categorical_accuracy\n",
      "104/104 [==============================] - 0s 2ms/step - loss: 0.1251 - categorical_accuracy: 0.9578 - val_loss: 0.3232 - val_categorical_accuracy: 0.8736\n",
      "Epoch 44/100\n",
      " 87/104 [========================>.....] - ETA: 0s - loss: 0.1263 - categorical_accuracy: 0.9565WARNING:tensorflow:Early stopping conditioned on metric `val_accuracy` which is not available. Available metrics are: loss,categorical_accuracy,val_loss,val_categorical_accuracy\n",
      "104/104 [==============================] - 0s 2ms/step - loss: 0.1240 - categorical_accuracy: 0.9587 - val_loss: 0.3250 - val_categorical_accuracy: 0.8723\n",
      "Epoch 45/100\n",
      " 78/104 [=====================>........] - ETA: 0s - loss: 0.1218 - categorical_accuracy: 0.9593WARNING:tensorflow:Early stopping conditioned on metric `val_accuracy` which is not available. Available metrics are: loss,categorical_accuracy,val_loss,val_categorical_accuracy\n",
      "104/104 [==============================] - 0s 2ms/step - loss: 0.1229 - categorical_accuracy: 0.9595 - val_loss: 0.3243 - val_categorical_accuracy: 0.8736\n",
      "Epoch 46/100\n",
      "104/104 [==============================] - ETA: 0s - loss: 0.1219 - categorical_accuracy: 0.9598WARNING:tensorflow:Early stopping conditioned on metric `val_accuracy` which is not available. Available metrics are: loss,categorical_accuracy,val_loss,val_categorical_accuracy\n",
      "104/104 [==============================] - 0s 2ms/step - loss: 0.1219 - categorical_accuracy: 0.9598 - val_loss: 0.3243 - val_categorical_accuracy: 0.8736\n",
      "Epoch 47/100\n",
      " 73/104 [====================>.........] - ETA: 0s - loss: 0.1219 - categorical_accuracy: 0.9615WARNING:tensorflow:Early stopping conditioned on metric `val_accuracy` which is not available. Available metrics are: loss,categorical_accuracy,val_loss,val_categorical_accuracy\n",
      "104/104 [==============================] - 0s 2ms/step - loss: 0.1211 - categorical_accuracy: 0.9604 - val_loss: 0.3213 - val_categorical_accuracy: 0.8750\n",
      "Epoch 48/100\n",
      " 98/104 [===========================>..] - ETA: 0s - loss: 0.1198 - categorical_accuracy: 0.9601WARNING:tensorflow:Early stopping conditioned on metric `val_accuracy` which is not available. Available metrics are: loss,categorical_accuracy,val_loss,val_categorical_accuracy\n",
      "104/104 [==============================] - 0s 2ms/step - loss: 0.1202 - categorical_accuracy: 0.9599 - val_loss: 0.3132 - val_categorical_accuracy: 0.8764\n",
      "Epoch 49/100\n",
      " 88/104 [========================>.....] - ETA: 0s - loss: 0.1193 - categorical_accuracy: 0.9577WARNING:tensorflow:Early stopping conditioned on metric `val_accuracy` which is not available. Available metrics are: loss,categorical_accuracy,val_loss,val_categorical_accuracy\n",
      "104/104 [==============================] - 0s 2ms/step - loss: 0.1192 - categorical_accuracy: 0.9592 - val_loss: 0.3116 - val_categorical_accuracy: 0.8764\n",
      "Epoch 50/100\n",
      " 92/104 [=========================>....] - ETA: 0s - loss: 0.1213 - categorical_accuracy: 0.9592WARNING:tensorflow:Early stopping conditioned on metric `val_accuracy` which is not available. Available metrics are: loss,categorical_accuracy,val_loss,val_categorical_accuracy\n",
      "104/104 [==============================] - 0s 2ms/step - loss: 0.1184 - categorical_accuracy: 0.9609 - val_loss: 0.3105 - val_categorical_accuracy: 0.8764\n",
      "Epoch 51/100\n",
      "101/104 [============================>.] - ETA: 0s - loss: 0.1178 - categorical_accuracy: 0.9598WARNING:tensorflow:Early stopping conditioned on metric `val_accuracy` which is not available. Available metrics are: loss,categorical_accuracy,val_loss,val_categorical_accuracy\n",
      "104/104 [==============================] - 0s 2ms/step - loss: 0.1176 - categorical_accuracy: 0.9599 - val_loss: 0.3083 - val_categorical_accuracy: 0.8777\n",
      "Epoch 52/100\n",
      "103/104 [============================>.] - ETA: 0s - loss: 0.1167 - categorical_accuracy: 0.9590WARNING:tensorflow:Early stopping conditioned on metric `val_accuracy` which is not available. Available metrics are: loss,categorical_accuracy,val_loss,val_categorical_accuracy\n",
      "104/104 [==============================] - 0s 4ms/step - loss: 0.1169 - categorical_accuracy: 0.9590 - val_loss: 0.3240 - val_categorical_accuracy: 0.8736\n",
      "Epoch 53/100\n",
      "102/104 [============================>.] - ETA: 0s - loss: 0.1161 - categorical_accuracy: 0.9600WARNING:tensorflow:Early stopping conditioned on metric `val_accuracy` which is not available. Available metrics are: loss,categorical_accuracy,val_loss,val_categorical_accuracy\n",
      "104/104 [==============================] - 0s 3ms/step - loss: 0.1165 - categorical_accuracy: 0.9598 - val_loss: 0.3254 - val_categorical_accuracy: 0.8750\n",
      "Epoch 54/100\n",
      " 71/104 [===================>..........] - ETA: 0s - loss: 0.1122 - categorical_accuracy: 0.9619WARNING:tensorflow:Early stopping conditioned on metric `val_accuracy` which is not available. Available metrics are: loss,categorical_accuracy,val_loss,val_categorical_accuracy\n",
      "104/104 [==============================] - 0s 2ms/step - loss: 0.1155 - categorical_accuracy: 0.9602 - val_loss: 0.3169 - val_categorical_accuracy: 0.8764\n",
      "Epoch 55/100\n",
      " 74/104 [====================>.........] - ETA: 0s - loss: 0.1144 - categorical_accuracy: 0.9611WARNING:tensorflow:Early stopping conditioned on metric `val_accuracy` which is not available. Available metrics are: loss,categorical_accuracy,val_loss,val_categorical_accuracy\n",
      "104/104 [==============================] - 0s 2ms/step - loss: 0.1148 - categorical_accuracy: 0.9607 - val_loss: 0.3166 - val_categorical_accuracy: 0.8777\n",
      "Epoch 56/100\n",
      " 69/104 [==================>...........] - ETA: 0s - loss: 0.1214 - categorical_accuracy: 0.9558WARNING:tensorflow:Early stopping conditioned on metric `val_accuracy` which is not available. Available metrics are: loss,categorical_accuracy,val_loss,val_categorical_accuracy\n",
      "104/104 [==============================] - 0s 2ms/step - loss: 0.1142 - categorical_accuracy: 0.9604 - val_loss: 0.3061 - val_categorical_accuracy: 0.8791\n",
      "Epoch 57/100\n",
      " 96/104 [==========================>...] - ETA: 0s - loss: 0.1128 - categorical_accuracy: 0.9606WARNING:tensorflow:Early stopping conditioned on metric `val_accuracy` which is not available. Available metrics are: loss,categorical_accuracy,val_loss,val_categorical_accuracy\n",
      "104/104 [==============================] - 0s 3ms/step - loss: 0.1138 - categorical_accuracy: 0.9595 - val_loss: 0.3114 - val_categorical_accuracy: 0.8777\n",
      "Epoch 58/100\n",
      " 92/104 [=========================>....] - ETA: 0s - loss: 0.1111 - categorical_accuracy: 0.9604WARNING:tensorflow:Early stopping conditioned on metric `val_accuracy` which is not available. Available metrics are: loss,categorical_accuracy,val_loss,val_categorical_accuracy\n",
      "104/104 [==============================] - 0s 2ms/step - loss: 0.1130 - categorical_accuracy: 0.9602 - val_loss: 0.3160 - val_categorical_accuracy: 0.8764\n",
      "Epoch 59/100\n",
      " 87/104 [========================>.....] - ETA: 0s - loss: 0.1109 - categorical_accuracy: 0.9610WARNING:tensorflow:Early stopping conditioned on metric `val_accuracy` which is not available. Available metrics are: loss,categorical_accuracy,val_loss,val_categorical_accuracy\n",
      "104/104 [==============================] - 0s 2ms/step - loss: 0.1124 - categorical_accuracy: 0.9607 - val_loss: 0.3221 - val_categorical_accuracy: 0.8777\n",
      "Epoch 60/100\n",
      " 70/104 [===================>..........] - ETA: 0s - loss: 0.1075 - categorical_accuracy: 0.9643WARNING:tensorflow:Early stopping conditioned on metric `val_accuracy` which is not available. Available metrics are: loss,categorical_accuracy,val_loss,val_categorical_accuracy\n",
      "104/104 [==============================] - 0s 2ms/step - loss: 0.1119 - categorical_accuracy: 0.9606 - val_loss: 0.3176 - val_categorical_accuracy: 0.8791\n",
      "Epoch 61/100\n",
      " 85/104 [=======================>......] - ETA: 0s - loss: 0.1101 - categorical_accuracy: 0.9621WARNING:tensorflow:Early stopping conditioned on metric `val_accuracy` which is not available. Available metrics are: loss,categorical_accuracy,val_loss,val_categorical_accuracy\n",
      "104/104 [==============================] - 0s 2ms/step - loss: 0.1110 - categorical_accuracy: 0.9610 - val_loss: 0.3092 - val_categorical_accuracy: 0.8818\n",
      "Epoch 62/100\n",
      " 77/104 [=====================>........] - ETA: 0s - loss: 0.1075 - categorical_accuracy: 0.9625WARNING:tensorflow:Early stopping conditioned on metric `val_accuracy` which is not available. Available metrics are: loss,categorical_accuracy,val_loss,val_categorical_accuracy\n",
      "104/104 [==============================] - 0s 2ms/step - loss: 0.1109 - categorical_accuracy: 0.9609 - val_loss: 0.3107 - val_categorical_accuracy: 0.8804\n",
      "Epoch 63/100\n",
      " 98/104 [===========================>..] - ETA: 0s - loss: 0.1111 - categorical_accuracy: 0.9608WARNING:tensorflow:Early stopping conditioned on metric `val_accuracy` which is not available. Available metrics are: loss,categorical_accuracy,val_loss,val_categorical_accuracy\n",
      "104/104 [==============================] - 0s 2ms/step - loss: 0.1104 - categorical_accuracy: 0.9607 - val_loss: 0.3133 - val_categorical_accuracy: 0.8804\n",
      "Epoch 64/100\n",
      "104/104 [==============================] - ETA: 0s - loss: 0.1098 - categorical_accuracy: 0.9610WARNING:tensorflow:Early stopping conditioned on metric `val_accuracy` which is not available. Available metrics are: loss,categorical_accuracy,val_loss,val_categorical_accuracy\n",
      "104/104 [==============================] - 0s 2ms/step - loss: 0.1098 - categorical_accuracy: 0.9610 - val_loss: 0.3202 - val_categorical_accuracy: 0.8804\n",
      "Epoch 65/100\n",
      " 96/104 [==========================>...] - ETA: 0s - loss: 0.1093 - categorical_accuracy: 0.9609WARNING:tensorflow:Early stopping conditioned on metric `val_accuracy` which is not available. Available metrics are: loss,categorical_accuracy,val_loss,val_categorical_accuracy\n",
      "104/104 [==============================] - 0s 2ms/step - loss: 0.1093 - categorical_accuracy: 0.9609 - val_loss: 0.3229 - val_categorical_accuracy: 0.8777\n",
      "Epoch 66/100\n",
      "102/104 [============================>.] - ETA: 0s - loss: 0.1086 - categorical_accuracy: 0.9612WARNING:tensorflow:Early stopping conditioned on metric `val_accuracy` which is not available. Available metrics are: loss,categorical_accuracy,val_loss,val_categorical_accuracy\n",
      "104/104 [==============================] - 0s 2ms/step - loss: 0.1091 - categorical_accuracy: 0.9609 - val_loss: 0.3173 - val_categorical_accuracy: 0.8804\n",
      "Epoch 67/100\n",
      " 87/104 [========================>.....] - ETA: 0s - loss: 0.1085 - categorical_accuracy: 0.9621WARNING:tensorflow:Early stopping conditioned on metric `val_accuracy` which is not available. Available metrics are: loss,categorical_accuracy,val_loss,val_categorical_accuracy\n",
      "104/104 [==============================] - 0s 3ms/step - loss: 0.1086 - categorical_accuracy: 0.9616 - val_loss: 0.3151 - val_categorical_accuracy: 0.8791\n",
      "Epoch 68/100\n",
      "100/104 [===========================>..] - ETA: 0s - loss: 0.1086 - categorical_accuracy: 0.9597WARNING:tensorflow:Early stopping conditioned on metric `val_accuracy` which is not available. Available metrics are: loss,categorical_accuracy,val_loss,val_categorical_accuracy\n",
      "104/104 [==============================] - 0s 2ms/step - loss: 0.1082 - categorical_accuracy: 0.9602 - val_loss: 0.3090 - val_categorical_accuracy: 0.8845\n",
      "Epoch 69/100\n",
      " 98/104 [===========================>..] - ETA: 0s - loss: 0.1082 - categorical_accuracy: 0.9593WARNING:tensorflow:Early stopping conditioned on metric `val_accuracy` which is not available. Available metrics are: loss,categorical_accuracy,val_loss,val_categorical_accuracy\n",
      "104/104 [==============================] - 0s 2ms/step - loss: 0.1079 - categorical_accuracy: 0.9598 - val_loss: 0.3090 - val_categorical_accuracy: 0.8832\n",
      "Epoch 70/100\n",
      " 91/104 [=========================>....] - ETA: 0s - loss: 0.1072 - categorical_accuracy: 0.9607WARNING:tensorflow:Early stopping conditioned on metric `val_accuracy` which is not available. Available metrics are: loss,categorical_accuracy,val_loss,val_categorical_accuracy\n",
      "104/104 [==============================] - 0s 2ms/step - loss: 0.1076 - categorical_accuracy: 0.9607 - val_loss: 0.3164 - val_categorical_accuracy: 0.8832\n",
      "Epoch 71/100\n",
      " 97/104 [==========================>...] - ETA: 0s - loss: 0.1073 - categorical_accuracy: 0.9610WARNING:tensorflow:Early stopping conditioned on metric `val_accuracy` which is not available. Available metrics are: loss,categorical_accuracy,val_loss,val_categorical_accuracy\n",
      "104/104 [==============================] - 0s 2ms/step - loss: 0.1072 - categorical_accuracy: 0.9612 - val_loss: 0.3135 - val_categorical_accuracy: 0.8832\n",
      "Epoch 72/100\n",
      " 80/104 [======================>.......] - ETA: 0s - loss: 0.1086 - categorical_accuracy: 0.9607WARNING:tensorflow:Early stopping conditioned on metric `val_accuracy` which is not available. Available metrics are: loss,categorical_accuracy,val_loss,val_categorical_accuracy\n",
      "104/104 [==============================] - 0s 2ms/step - loss: 0.1068 - categorical_accuracy: 0.9613 - val_loss: 0.3220 - val_categorical_accuracy: 0.8804\n",
      "Epoch 73/100\n",
      " 96/104 [==========================>...] - ETA: 0s - loss: 0.1073 - categorical_accuracy: 0.9600WARNING:tensorflow:Early stopping conditioned on metric `val_accuracy` which is not available. Available metrics are: loss,categorical_accuracy,val_loss,val_categorical_accuracy\n",
      "104/104 [==============================] - 0s 2ms/step - loss: 0.1065 - categorical_accuracy: 0.9607 - val_loss: 0.3059 - val_categorical_accuracy: 0.8832\n",
      "Epoch 74/100\n",
      " 94/104 [==========================>...] - ETA: 0s - loss: 0.1044 - categorical_accuracy: 0.9611WARNING:tensorflow:Early stopping conditioned on metric `val_accuracy` which is not available. Available metrics are: loss,categorical_accuracy,val_loss,val_categorical_accuracy\n",
      "104/104 [==============================] - 0s 3ms/step - loss: 0.1061 - categorical_accuracy: 0.9601 - val_loss: 0.3133 - val_categorical_accuracy: 0.8818\n",
      "Epoch 75/100\n",
      " 71/104 [===================>..........] - ETA: 0s - loss: 0.1050 - categorical_accuracy: 0.9602WARNING:tensorflow:Early stopping conditioned on metric `val_accuracy` which is not available. Available metrics are: loss,categorical_accuracy,val_loss,val_categorical_accuracy\n",
      "104/104 [==============================] - 0s 2ms/step - loss: 0.1059 - categorical_accuracy: 0.9606 - val_loss: 0.3111 - val_categorical_accuracy: 0.8832\n",
      "Epoch 76/100\n",
      "101/104 [============================>.] - ETA: 0s - loss: 0.1055 - categorical_accuracy: 0.9604WARNING:tensorflow:Early stopping conditioned on metric `val_accuracy` which is not available. Available metrics are: loss,categorical_accuracy,val_loss,val_categorical_accuracy\n",
      "104/104 [==============================] - 0s 2ms/step - loss: 0.1054 - categorical_accuracy: 0.9606 - val_loss: 0.3215 - val_categorical_accuracy: 0.8818\n",
      "Epoch 77/100\n",
      " 70/104 [===================>..........] - ETA: 0s - loss: 0.1023 - categorical_accuracy: 0.9614WARNING:tensorflow:Early stopping conditioned on metric `val_accuracy` which is not available. Available metrics are: loss,categorical_accuracy,val_loss,val_categorical_accuracy\n",
      "104/104 [==============================] - 0s 2ms/step - loss: 0.1051 - categorical_accuracy: 0.9606 - val_loss: 0.3172 - val_categorical_accuracy: 0.8832\n",
      "Epoch 78/100\n",
      " 93/104 [=========================>....] - ETA: 0s - loss: 0.1045 - categorical_accuracy: 0.9622WARNING:tensorflow:Early stopping conditioned on metric `val_accuracy` which is not available. Available metrics are: loss,categorical_accuracy,val_loss,val_categorical_accuracy\n",
      "104/104 [==============================] - 0s 2ms/step - loss: 0.1047 - categorical_accuracy: 0.9618 - val_loss: 0.3181 - val_categorical_accuracy: 0.8859\n",
      "Epoch 79/100\n",
      " 88/104 [========================>.....] - ETA: 0s - loss: 0.1077 - categorical_accuracy: 0.9592WARNING:tensorflow:Early stopping conditioned on metric `val_accuracy` which is not available. Available metrics are: loss,categorical_accuracy,val_loss,val_categorical_accuracy\n",
      "104/104 [==============================] - 0s 2ms/step - loss: 0.1044 - categorical_accuracy: 0.9602 - val_loss: 0.3087 - val_categorical_accuracy: 0.8872\n",
      "Epoch 80/100\n",
      " 70/104 [===================>..........] - ETA: 0s - loss: 0.1015 - categorical_accuracy: 0.9609WARNING:tensorflow:Early stopping conditioned on metric `val_accuracy` which is not available. Available metrics are: loss,categorical_accuracy,val_loss,val_categorical_accuracy\n",
      "104/104 [==============================] - 0s 2ms/step - loss: 0.1043 - categorical_accuracy: 0.9598 - val_loss: 0.3154 - val_categorical_accuracy: 0.8859\n",
      "Epoch 81/100\n",
      " 95/104 [==========================>...] - ETA: 0s - loss: 0.1043 - categorical_accuracy: 0.9612WARNING:tensorflow:Early stopping conditioned on metric `val_accuracy` which is not available. Available metrics are: loss,categorical_accuracy,val_loss,val_categorical_accuracy\n",
      "104/104 [==============================] - 0s 2ms/step - loss: 0.1040 - categorical_accuracy: 0.9607 - val_loss: 0.3175 - val_categorical_accuracy: 0.8845\n",
      "Epoch 82/100\n",
      " 70/104 [===================>..........] - ETA: 0s - loss: 0.1000 - categorical_accuracy: 0.9632WARNING:tensorflow:Early stopping conditioned on metric `val_accuracy` which is not available. Available metrics are: loss,categorical_accuracy,val_loss,val_categorical_accuracy\n",
      "104/104 [==============================] - 0s 2ms/step - loss: 0.1036 - categorical_accuracy: 0.9624 - val_loss: 0.3109 - val_categorical_accuracy: 0.8872\n",
      "Epoch 83/100\n",
      "100/104 [===========================>..] - ETA: 0s - loss: 0.1045 - categorical_accuracy: 0.9594WARNING:tensorflow:Early stopping conditioned on metric `val_accuracy` which is not available. Available metrics are: loss,categorical_accuracy,val_loss,val_categorical_accuracy\n",
      "104/104 [==============================] - 0s 2ms/step - loss: 0.1034 - categorical_accuracy: 0.9599 - val_loss: 0.3125 - val_categorical_accuracy: 0.8859\n",
      "Epoch 84/100\n",
      " 85/104 [=======================>......] - ETA: 0s - loss: 0.1032 - categorical_accuracy: 0.9603WARNING:tensorflow:Early stopping conditioned on metric `val_accuracy` which is not available. Available metrics are: loss,categorical_accuracy,val_loss,val_categorical_accuracy\n",
      "104/104 [==============================] - 0s 2ms/step - loss: 0.1032 - categorical_accuracy: 0.9602 - val_loss: 0.3223 - val_categorical_accuracy: 0.8859\n",
      "Epoch 85/100\n",
      " 99/104 [===========================>..] - ETA: 0s - loss: 0.1014 - categorical_accuracy: 0.9620WARNING:tensorflow:Early stopping conditioned on metric `val_accuracy` which is not available. Available metrics are: loss,categorical_accuracy,val_loss,val_categorical_accuracy\n",
      "104/104 [==============================] - 0s 2ms/step - loss: 0.1029 - categorical_accuracy: 0.9615 - val_loss: 0.3220 - val_categorical_accuracy: 0.8872\n",
      "Epoch 86/100\n",
      " 91/104 [=========================>....] - ETA: 0s - loss: 0.1037 - categorical_accuracy: 0.9615WARNING:tensorflow:Early stopping conditioned on metric `val_accuracy` which is not available. Available metrics are: loss,categorical_accuracy,val_loss,val_categorical_accuracy\n",
      "104/104 [==============================] - 0s 2ms/step - loss: 0.1026 - categorical_accuracy: 0.9621 - val_loss: 0.3081 - val_categorical_accuracy: 0.8872\n",
      "Epoch 87/100\n",
      " 97/104 [==========================>...] - ETA: 0s - loss: 0.1007 - categorical_accuracy: 0.9610WARNING:tensorflow:Early stopping conditioned on metric `val_accuracy` which is not available. Available metrics are: loss,categorical_accuracy,val_loss,val_categorical_accuracy\n",
      "104/104 [==============================] - 0s 2ms/step - loss: 0.1020 - categorical_accuracy: 0.9604 - val_loss: 0.3290 - val_categorical_accuracy: 0.8872\n",
      "Epoch 88/100\n",
      " 79/104 [=====================>........] - ETA: 0s - loss: 0.1038 - categorical_accuracy: 0.9604WARNING:tensorflow:Early stopping conditioned on metric `val_accuracy` which is not available. Available metrics are: loss,categorical_accuracy,val_loss,val_categorical_accuracy\n",
      "104/104 [==============================] - 0s 2ms/step - loss: 0.1023 - categorical_accuracy: 0.9607 - val_loss: 0.3122 - val_categorical_accuracy: 0.8872\n",
      "Epoch 89/100\n",
      "102/104 [============================>.] - ETA: 0s - loss: 0.1013 - categorical_accuracy: 0.9606WARNING:tensorflow:Early stopping conditioned on metric `val_accuracy` which is not available. Available metrics are: loss,categorical_accuracy,val_loss,val_categorical_accuracy\n",
      "104/104 [==============================] - 0s 2ms/step - loss: 0.1020 - categorical_accuracy: 0.9604 - val_loss: 0.3267 - val_categorical_accuracy: 0.8845\n",
      "Epoch 90/100\n",
      "103/104 [============================>.] - ETA: 0s - loss: 0.1019 - categorical_accuracy: 0.9616WARNING:tensorflow:Early stopping conditioned on metric `val_accuracy` which is not available. Available metrics are: loss,categorical_accuracy,val_loss,val_categorical_accuracy\n",
      "104/104 [==============================] - 0s 2ms/step - loss: 0.1017 - categorical_accuracy: 0.9616 - val_loss: 0.3182 - val_categorical_accuracy: 0.8859\n",
      "Epoch 91/100\n",
      " 89/104 [========================>.....] - ETA: 0s - loss: 0.1013 - categorical_accuracy: 0.9619WARNING:tensorflow:Early stopping conditioned on metric `val_accuracy` which is not available. Available metrics are: loss,categorical_accuracy,val_loss,val_categorical_accuracy\n",
      "104/104 [==============================] - 0s 2ms/step - loss: 0.1012 - categorical_accuracy: 0.9622 - val_loss: 0.3177 - val_categorical_accuracy: 0.8859\n",
      "Epoch 92/100\n",
      " 90/104 [========================>.....] - ETA: 0s - loss: 0.0974 - categorical_accuracy: 0.9625WARNING:tensorflow:Early stopping conditioned on metric `val_accuracy` which is not available. Available metrics are: loss,categorical_accuracy,val_loss,val_categorical_accuracy\n",
      "104/104 [==============================] - 0s 2ms/step - loss: 0.1014 - categorical_accuracy: 0.9607 - val_loss: 0.3264 - val_categorical_accuracy: 0.8845\n",
      "Epoch 93/100\n",
      " 89/104 [========================>.....] - ETA: 0s - loss: 0.0993 - categorical_accuracy: 0.9619WARNING:tensorflow:Early stopping conditioned on metric `val_accuracy` which is not available. Available metrics are: loss,categorical_accuracy,val_loss,val_categorical_accuracy\n",
      "104/104 [==============================] - 0s 2ms/step - loss: 0.1012 - categorical_accuracy: 0.9615 - val_loss: 0.3159 - val_categorical_accuracy: 0.8859\n",
      "Epoch 94/100\n",
      " 70/104 [===================>..........] - ETA: 0s - loss: 0.0995 - categorical_accuracy: 0.9618WARNING:tensorflow:Early stopping conditioned on metric `val_accuracy` which is not available. Available metrics are: loss,categorical_accuracy,val_loss,val_categorical_accuracy\n",
      "104/104 [==============================] - 0s 2ms/step - loss: 0.1008 - categorical_accuracy: 0.9613 - val_loss: 0.3203 - val_categorical_accuracy: 0.8872\n",
      "Epoch 95/100\n",
      " 72/104 [===================>..........] - ETA: 0s - loss: 0.0992 - categorical_accuracy: 0.9622WARNING:tensorflow:Early stopping conditioned on metric `val_accuracy` which is not available. Available metrics are: loss,categorical_accuracy,val_loss,val_categorical_accuracy\n",
      "104/104 [==============================] - 0s 2ms/step - loss: 0.1008 - categorical_accuracy: 0.9618 - val_loss: 0.3279 - val_categorical_accuracy: 0.8859\n",
      "Epoch 96/100\n",
      " 91/104 [=========================>....] - ETA: 0s - loss: 0.0988 - categorical_accuracy: 0.9626WARNING:tensorflow:Early stopping conditioned on metric `val_accuracy` which is not available. Available metrics are: loss,categorical_accuracy,val_loss,val_categorical_accuracy\n",
      "104/104 [==============================] - 0s 2ms/step - loss: 0.1007 - categorical_accuracy: 0.9618 - val_loss: 0.3176 - val_categorical_accuracy: 0.8859\n",
      "Epoch 97/100\n",
      "101/104 [============================>.] - ETA: 0s - loss: 0.0996 - categorical_accuracy: 0.9621WARNING:tensorflow:Early stopping conditioned on metric `val_accuracy` which is not available. Available metrics are: loss,categorical_accuracy,val_loss,val_categorical_accuracy\n",
      "104/104 [==============================] - 0s 3ms/step - loss: 0.1003 - categorical_accuracy: 0.9613 - val_loss: 0.3233 - val_categorical_accuracy: 0.8859\n",
      "Epoch 98/100\n",
      " 85/104 [=======================>......] - ETA: 0s - loss: 0.1013 - categorical_accuracy: 0.9614WARNING:tensorflow:Early stopping conditioned on metric `val_accuracy` which is not available. Available metrics are: loss,categorical_accuracy,val_loss,val_categorical_accuracy\n",
      "104/104 [==============================] - 0s 2ms/step - loss: 0.1003 - categorical_accuracy: 0.9616 - val_loss: 0.3277 - val_categorical_accuracy: 0.8845\n",
      "Epoch 99/100\n",
      " 72/104 [===================>..........] - ETA: 0s - loss: 0.1008 - categorical_accuracy: 0.9607WARNING:tensorflow:Early stopping conditioned on metric `val_accuracy` which is not available. Available metrics are: loss,categorical_accuracy,val_loss,val_categorical_accuracy\n",
      "104/104 [==============================] - 0s 2ms/step - loss: 0.1001 - categorical_accuracy: 0.9616 - val_loss: 0.3248 - val_categorical_accuracy: 0.8859\n",
      "Epoch 100/100\n",
      " 75/104 [====================>.........] - ETA: 0s - loss: 0.1030 - categorical_accuracy: 0.9602WARNING:tensorflow:Early stopping conditioned on metric `val_accuracy` which is not available. Available metrics are: loss,categorical_accuracy,val_loss,val_categorical_accuracy\n",
      "104/104 [==============================] - 0s 2ms/step - loss: 0.0999 - categorical_accuracy: 0.9615 - val_loss: 0.3221 - val_categorical_accuracy: 0.8859\n"
     ]
    }
   ],
   "source": [
    "history = ANN.fit(x_train, y_train_OHE, \n",
    "                  batch_size=64, \n",
    "                  epochs=100,\n",
    "                  validation_split=0.1,\n",
    "                  callbacks=[early_stop])"
   ]
  },
  {
   "cell_type": "markdown",
   "metadata": {
    "id": "wqse2x-GazGT"
   },
   "source": [
    "> m) Escoja el mejor modelo según la función de activación y puntuación obtenida en el conjunto de validación y pruebe con los siguientes modelos:\n",
    "\n",
    "* input_layer -> hidden_layer(64, best_activ) -> hidden_layer(32, best_activ) -> output_layer\n",
    "\n",
    "* input_layer -> hidden_layer(128, best_activ) -> hidden_layer(64, best_activ) -> hidden_layer(32, best_activ) -> output_layer\n",
    "\n",
    "* input_layer -> hidden_layer(256, best_activ) -> hidden_layer(128, best_activ) -> hidden_layer(64, best_activ) -> hidden_layer(32, best_activ) -> output_layer"
   ]
  },
  {
   "cell_type": "code",
   "execution_count": null,
   "metadata": {
    "id": "buwW4LGtb5gC"
   },
   "outputs": [],
   "source": [
    "\"\"\"\n",
    "Su código aquí\n",
    "\"\"\""
   ]
  },
  {
   "cell_type": "markdown",
   "metadata": {
    "id": "WyFCM8N7b82n"
   },
   "source": [
    ">n) Imprima las curvas de error y accuracy del conjunto de entrenamiento y de validación para observar como se comporta el _aprendizaje_ de sus modelos."
   ]
  },
  {
   "cell_type": "code",
   "execution_count": null,
   "metadata": {
    "id": "h6xS3p9Rg_jM"
   },
   "outputs": [],
   "source": [
    "import matplotlib.pyplot as plt\n",
    "\n",
    "# Access the training and validation errors from the history object\n",
    "train_errors = history.history['accuracy']\n",
    "val_errors = history.history['val_accuracy']\n",
    "\n",
    "# Get the number of epochs\n",
    "epochs = range(1, len(train_errors) + 1)\n",
    "\n",
    "# Plotting the learning curves\n",
    "plt.plot(epochs, train_errors, label='Training Accuracy')\n",
    "plt.plot(epochs, val_errors, label='Validation Accuracy')\n",
    "\n",
    "# Adding labels and title\n",
    "plt.xlabel('Epochs')\n",
    "plt.ylabel('Accuracy')\n",
    "plt.title('Learning Curves')\n",
    "plt.legend()\n",
    "\n",
    "# Displaying the plot\n",
    "plt.show()"
   ]
  },
  {
   "cell_type": "markdown",
   "metadata": {
    "id": "_OGcBz2jcT3k"
   },
   "source": [
    "> o) Una vez terminados los entrenamientos elija la mejor red hasta ahora y entrénela con el conjunto de entrenamiento completo sin validation split."
   ]
  },
  {
   "cell_type": "code",
   "execution_count": null,
   "metadata": {
    "id": "dq9q5Bn_cxG6"
   },
   "outputs": [],
   "source": [
    "\"\"\"\n",
    "Su código aquí\n",
    "\"\"\""
   ]
  },
  {
   "cell_type": "markdown",
   "metadata": {
    "id": "PD5GTcznc09Y"
   },
   "source": [
    "> p) Procese las predicciones del modelo sobre el conjunto de test para que pueda comparar los errores usando un heatmap de la matriz de confusión."
   ]
  },
  {
   "cell_type": "code",
   "execution_count": null,
   "metadata": {
    "id": "zFW02e31uM6p"
   },
   "outputs": [],
   "source": [
    "y_pred = ANN(x_test)\n",
    "y_pred = np.argmax(y_pred, axis=1)"
   ]
  },
  {
   "cell_type": "code",
   "execution_count": null,
   "metadata": {
    "id": "MxrY1Q8fvO-7"
   },
   "outputs": [],
   "source": [
    "y_test_comp = np.argmax(y_test_OHE, axis=1)"
   ]
  },
  {
   "cell_type": "code",
   "execution_count": null,
   "metadata": {
    "id": "5VYezZeQw8wj"
   },
   "outputs": [],
   "source": [
    "from sklearn.metrics import confusion_matrix\n",
    "\n",
    "cat = np.array([1,2,3,4,5,6])\n",
    "\n",
    "# Create the confusion matrix\n",
    "cm = confusion_matrix(cat[y_test_comp], cat[y_pred])\n",
    "\n",
    "# Get the number of classes\n",
    "num_classes = 6\n",
    "\n",
    "# Plot the confusion matrix\n",
    "plt.figure(figsize=(8, 6))\n",
    "plt.imshow(cm, interpolation='nearest', cmap=plt.cm.Blues)\n",
    "plt.title('Confusion Matrix')\n",
    "plt.colorbar()\n",
    "\n",
    "# Add x-axis and y-axis labels\n",
    "tick_marks = np.arange(num_classes)\n",
    "plt.xticks(tick_marks, LABELS, rotation=75)\n",
    "plt.yticks(tick_marks, LABELS)\n",
    "\n",
    "# Add labels to each cell\n",
    "thresh = cm.max() / 2.0\n",
    "for i in range(num_classes):\n",
    "    for j in range(num_classes):\n",
    "        plt.text(j, i, format(cm[i, j], 'd'),\n",
    "                 horizontalalignment=\"center\",\n",
    "                 color=\"white\" if cm[i, j] > thresh else \"black\")\n",
    "\n",
    "# Add axis labels\n",
    "plt.ylabel('True label')\n",
    "plt.xlabel('Predicted label')\n",
    "\n",
    "# Show the plot\n",
    "plt.tight_layout()\n",
    "plt.show()\n"
   ]
  },
  {
   "cell_type": "markdown",
   "metadata": {
    "id": "nmC9JAo4fWre"
   },
   "source": [
    "> q) Comente acerca de los resultados y explique cual es la actividad que mejor logra clasificar la red."
   ]
  },
  {
   "cell_type": "markdown",
   "metadata": {
    "id": "nYqpcB9OgChG"
   },
   "source": [
    "### 2.2.2 AdaBoost y arbustos\n",
    "\n",
    "> a) Describa brevemente como funciona el modelo AdaBoost.\n",
    "\n",
    "> b) ¿Qué clasificador se puede usar junto con Adaboost?\n",
    "\n",
    "> c) ¿Cómo funciona el _learning rate_ en el modelo AdaBoost?\n",
    "\n",
    "> d) Separe el conjunto de entrenamiento dejando el 10% para validación.\n",
    "\n",
    "> e) Entrene un clasificador AdaBoost con un arbusto (árbol de profundidad=2) con 300 estimadores y learning_rate=1\n",
    "\n",
    "**Nota:** Este modelo no usa One Hot Encoder para las clases, investigue como preprocesar los datos del conjunto para entrenar este modelo. Puede guiarse con el siguiente tutorial de sklearn: https://scikit-learn.org/stable/auto_examples/ensemble/plot_adaboost_multiclass.html#sphx-glr-auto-examples-ensemble-plot-adaboost-multiclass-py\n",
    "\n"
   ]
  },
  {
   "cell_type": "code",
   "execution_count": null,
   "metadata": {
    "id": "pHhynnuC8fy3"
   },
   "outputs": [],
   "source": [
    "ada = AdaBoostClassifier(\n",
    "    DecisionTreeClassifier(max_depth=2), n_estimators=300, learning_rate=1\n",
    ")"
   ]
  },
  {
   "cell_type": "code",
   "execution_count": null,
   "metadata": {
    "id": "fj5889e68-SG"
   },
   "outputs": [],
   "source": [
    "ada.fit(x_train, y_train)"
   ]
  },
  {
   "cell_type": "markdown",
   "metadata": {
    "id": "dN0H0C-2Vdzl"
   },
   "source": [
    "> f) Revise el error de validación con el conjunto de validaión."
   ]
  },
  {
   "cell_type": "code",
   "execution_count": null,
   "metadata": {
    "id": "66IPqBlAAIK2"
   },
   "outputs": [],
   "source": [
    "ada_errors = []\n",
    "\n",
    "for ada_val_predict in ada.staged_predict(x_val):\n",
    "    ada_val_errors.append(1.0 - accuracy_score(ada_val_predict, y_val))    \n",
    "\n",
    "n_trees_ada = len(ada)"
   ]
  },
  {
   "cell_type": "markdown",
   "metadata": {
    "id": "yGtrDlfST44V"
   },
   "source": [
    "> g) Haga la misma prueba pero ahora con 30 estimadores"
   ]
  },
  {
   "cell_type": "code",
   "execution_count": null,
   "metadata": {
    "id": "FJoxYyhnV5Mw"
   },
   "outputs": [],
   "source": [
    "..."
   ]
  },
  {
   "cell_type": "markdown",
   "metadata": {
    "id": "NnFH55GLV6fR"
   },
   "source": [
    "> h) Una vez encontrado el mejor modelo basandose en el error de validación, entrene el mejr modelo con todo el conjunto de entrenamiento, es decir, sin hacer _validation split_ y luego evalúe el modelo sobre el conjunto de pruebas."
   ]
  },
  {
   "cell_type": "code",
   "execution_count": null,
   "metadata": {
    "id": "jA_GlqHVYAL_"
   },
   "outputs": [],
   "source": []
  },
  {
   "cell_type": "markdown",
   "metadata": {
    "id": "vM_9PTdZX_vr"
   },
   "source": [
    "> i) Muestre la matriz de confusión y comente sus resultados."
   ]
  },
  {
   "cell_type": "code",
   "execution_count": null,
   "metadata": {
    "id": "t-g8d3-xYGiA"
   },
   "outputs": [],
   "source": []
  },
  {
   "cell_type": "markdown",
   "metadata": {
    "id": "vxLbY6g9YG-q"
   },
   "source": [
    "## 2.3 Conclusiones\n",
    "\n",
    "Comente con qué modelo obtiene los mejores resultados, ¿qué otros experimentos realizaría para intentar mejorar los resultados?\n",
    "\n"
   ]
  }
 ],
 "metadata": {
  "colab": {
   "provenance": [],
   "toc_visible": true
  },
  "kernelspec": {
   "display_name": "Python 3 (ipykernel)",
   "language": "python",
   "name": "python3"
  },
  "language_info": {
   "codemirror_mode": {
    "name": "ipython",
    "version": 3
   },
   "file_extension": ".py",
   "mimetype": "text/x-python",
   "name": "python",
   "nbconvert_exporter": "python",
   "pygments_lexer": "ipython3",
   "version": "3.10.9"
  }
 },
 "nbformat": 4,
 "nbformat_minor": 4
}
